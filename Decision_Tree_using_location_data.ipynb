{
  "nbformat": 4,
  "nbformat_minor": 0,
  "metadata": {
    "colab": {
      "provenance": []
    },
    "kernelspec": {
      "name": "python3",
      "display_name": "Python 3"
    },
    "language_info": {
      "name": "python"
    }
  },
  "cells": [
    {
      "cell_type": "markdown",
      "source": [
        "**Predicting Pool Violations with Decision Tree**\n",
        "\n",
        "This project will use the DOHMH Pool Inspections dataset from NYC Opendata. \n",
        "\n",
        "Link: https://data.cityofnewyork.us/Health/DOHMH-Pool-Inspections/3kfa-rvez \n",
        "\n",
        "The data in this dataset was provided by: Department of Health and Mental Hygiene, Office of Public Health Engineering (DOHMH)\n",
        "\n",
        "According to the user guide available in the webpage's attachments: \n",
        "In NYC, a permit is required to construct or operate bathing establishments with pools (including Saunas, Steam Rooms, Spray Grounds)\n",
        "whether they're owned by city agencies, public/private schools, corporations, hotels, motels, camps, apartments, condominiums, clubs, gyms, etc.\n",
        "\n",
        "This dataset contains data for 1,267 pool inspections for the year 2019, including location data like borough, zip code, district, indoor/outdoor, longitude, latitude, the number of violations, and others.\n",
        "\n",
        "The question that this project will attempt to answer is:\n",
        "\n",
        "Can we estimate how many critical violation pools will have depending on their location?\n",
        "\n",
        "I will attempt to answer this question using decision tree classification. Different combinations of features will be used to build decision trees to see which combination yields the most accurate predictions."
      ],
      "metadata": {
        "id": "ZoFfNrL699uB"
      }
    },
    {
      "cell_type": "code",
      "source": [
        "# importing libraries\n",
        "import pandas as pd\n",
        "import numpy as np\n",
        "import os\n",
        "\n",
        "from sklearn.model_selection import train_test_split\n",
        "\n",
        "# Python ≥3.5\n",
        "import sys\n",
        "assert sys.version_info >= (3, 5)\n",
        "\n",
        "# Scikit-Learn ≥0.20\n",
        "import sklearn\n",
        "assert sklearn.__version__ >= \"0.20\"\n",
        "\n",
        "# to stabilize notebook output across runs\n",
        "np.random.seed(42)\n",
        "\n",
        "from sklearn.tree import DecisionTreeClassifier\n",
        "\n",
        "from graphviz import Source\n",
        "from sklearn.tree import export_graphviz\n",
        "\n",
        "# setting up a directory to save figures\n",
        "PROJECT_ROOT_DIR = \".\"\n",
        "CHAPTER_ID = \"decision_trees\"\n",
        "IMAGES_PATH = os.path.join(PROJECT_ROOT_DIR, \"images\", CHAPTER_ID)\n",
        "os.makedirs(IMAGES_PATH, exist_ok=True)\n",
        "# later, the figures made in this in this notebook (decision tree images) can be found in files >> images >> decision trees"
      ],
      "metadata": {
        "id": "injOhYSn_HcT"
      },
      "execution_count": 1,
      "outputs": []
    },
    {
      "cell_type": "code",
      "source": [
        "# fetching the csv file\n",
        "!curl https://data.cityofnewyork.us/api/views/3kfa-rvez/rows.csv?accessType=DOWNLOAD -o pool_inspections.csv"
      ],
      "metadata": {
        "colab": {
          "base_uri": "https://localhost:8080/"
        },
        "id": "1Lh-SUqU_WWv",
        "outputId": "a6b903ee-1bc2-4aaa-b7cc-2ca7952c1770"
      },
      "execution_count": 2,
      "outputs": [
        {
          "output_type": "stream",
          "name": "stdout",
          "text": [
            "  % Total    % Received % Xferd  Average Speed   Time    Time     Time  Current\n",
            "                                 Dload  Upload   Total   Spent    Left  Speed\n",
            "100  495k    0  495k    0     0   178k      0 --:--:--  0:00:02 --:--:--  178k\n"
          ]
        }
      ]
    },
    {
      "cell_type": "code",
      "source": [
        "# turning the csv file into a dataframe\n",
        "df = pd.read_csv(\"pool_inspections.csv\")\n",
        "df.head(3)"
      ],
      "metadata": {
        "id": "oQmnN0aE_Mdl",
        "colab": {
          "base_uri": "https://localhost:8080/",
          "height": 410
        },
        "outputId": "37db5872-4e91-4231-dc4b-e3e0f514ee2a"
      },
      "execution_count": 3,
      "outputs": [
        {
          "output_type": "execute_result",
          "data": {
            "text/plain": [
              "  Permit_Type    ACCELA     Facility_Name ADDRESS_ No         ADDRESS_St  BO  \\\n",
              "0      Indoor  41576475        SPA 88 LLC          88      FULTON STREET  MA   \n",
              "1      Indoor  50052652  WEST 30TH HL LLC         520     WEST 30 STREET  MA   \n",
              "2      Indoor  50039431    XSPORT FITNESS         200  BAYCHESTER AVENUE  BX   \n",
              "\n",
              "     ZIP Inspection_Date          Inspection_Type  # of All Violations  ...  \\\n",
              "0  10038      01/02/2019       Routine Inspection                    6  ...   \n",
              "1  10001      01/02/2019       Routine Inspection                    1  ...   \n",
              "2  10475      01/02/2019  Complaint Re-inspection                    0  ...   \n",
              "\n",
              "       DOCKET        Lat       Long Community Board  Council District  \\\n",
              "0  00060-19S0  40.709291 -74.005944           101.0               1.0   \n",
              "1         NaN  40.752579 -74.002252           104.0               3.0   \n",
              "2         NaN  40.865905 -73.830430           210.0              12.0   \n",
              "\n",
              "   Census tract  Boro-Block-Lot        BIN  \\\n",
              "0        1502.0    1.000770e+09  1077403.0   \n",
              "1        9900.0    1.007010e+09  1089836.0   \n",
              "2       46201.0    2.051410e+09  2120098.0   \n",
              "\n",
              "                                          NTA  NTA Code  \n",
              "0           Battery Park City-Lower Manhattan      MN25  \n",
              "1  Hudson Yards-Chelsea-Flatiron-Union Square      MN13  \n",
              "2                                  Co-op City      BX13  \n",
              "\n",
              "[3 rows x 23 columns]"
            ],
            "text/html": [
              "\n",
              "  <div id=\"df-d13680eb-2a4d-4f94-be28-ddb1c3ae281f\">\n",
              "    <div class=\"colab-df-container\">\n",
              "      <div>\n",
              "<style scoped>\n",
              "    .dataframe tbody tr th:only-of-type {\n",
              "        vertical-align: middle;\n",
              "    }\n",
              "\n",
              "    .dataframe tbody tr th {\n",
              "        vertical-align: top;\n",
              "    }\n",
              "\n",
              "    .dataframe thead th {\n",
              "        text-align: right;\n",
              "    }\n",
              "</style>\n",
              "<table border=\"1\" class=\"dataframe\">\n",
              "  <thead>\n",
              "    <tr style=\"text-align: right;\">\n",
              "      <th></th>\n",
              "      <th>Permit_Type</th>\n",
              "      <th>ACCELA</th>\n",
              "      <th>Facility_Name</th>\n",
              "      <th>ADDRESS_ No</th>\n",
              "      <th>ADDRESS_St</th>\n",
              "      <th>BO</th>\n",
              "      <th>ZIP</th>\n",
              "      <th>Inspection_Date</th>\n",
              "      <th>Inspection_Type</th>\n",
              "      <th># of All Violations</th>\n",
              "      <th>...</th>\n",
              "      <th>DOCKET</th>\n",
              "      <th>Lat</th>\n",
              "      <th>Long</th>\n",
              "      <th>Community Board</th>\n",
              "      <th>Council District</th>\n",
              "      <th>Census tract</th>\n",
              "      <th>Boro-Block-Lot</th>\n",
              "      <th>BIN</th>\n",
              "      <th>NTA</th>\n",
              "      <th>NTA Code</th>\n",
              "    </tr>\n",
              "  </thead>\n",
              "  <tbody>\n",
              "    <tr>\n",
              "      <th>0</th>\n",
              "      <td>Indoor</td>\n",
              "      <td>41576475</td>\n",
              "      <td>SPA 88 LLC</td>\n",
              "      <td>88</td>\n",
              "      <td>FULTON STREET</td>\n",
              "      <td>MA</td>\n",
              "      <td>10038</td>\n",
              "      <td>01/02/2019</td>\n",
              "      <td>Routine Inspection</td>\n",
              "      <td>6</td>\n",
              "      <td>...</td>\n",
              "      <td>00060-19S0</td>\n",
              "      <td>40.709291</td>\n",
              "      <td>-74.005944</td>\n",
              "      <td>101.0</td>\n",
              "      <td>1.0</td>\n",
              "      <td>1502.0</td>\n",
              "      <td>1.000770e+09</td>\n",
              "      <td>1077403.0</td>\n",
              "      <td>Battery Park City-Lower Manhattan</td>\n",
              "      <td>MN25</td>\n",
              "    </tr>\n",
              "    <tr>\n",
              "      <th>1</th>\n",
              "      <td>Indoor</td>\n",
              "      <td>50052652</td>\n",
              "      <td>WEST 30TH HL LLC</td>\n",
              "      <td>520</td>\n",
              "      <td>WEST 30 STREET</td>\n",
              "      <td>MA</td>\n",
              "      <td>10001</td>\n",
              "      <td>01/02/2019</td>\n",
              "      <td>Routine Inspection</td>\n",
              "      <td>1</td>\n",
              "      <td>...</td>\n",
              "      <td>NaN</td>\n",
              "      <td>40.752579</td>\n",
              "      <td>-74.002252</td>\n",
              "      <td>104.0</td>\n",
              "      <td>3.0</td>\n",
              "      <td>9900.0</td>\n",
              "      <td>1.007010e+09</td>\n",
              "      <td>1089836.0</td>\n",
              "      <td>Hudson Yards-Chelsea-Flatiron-Union Square</td>\n",
              "      <td>MN13</td>\n",
              "    </tr>\n",
              "    <tr>\n",
              "      <th>2</th>\n",
              "      <td>Indoor</td>\n",
              "      <td>50039431</td>\n",
              "      <td>XSPORT FITNESS</td>\n",
              "      <td>200</td>\n",
              "      <td>BAYCHESTER AVENUE</td>\n",
              "      <td>BX</td>\n",
              "      <td>10475</td>\n",
              "      <td>01/02/2019</td>\n",
              "      <td>Complaint Re-inspection</td>\n",
              "      <td>0</td>\n",
              "      <td>...</td>\n",
              "      <td>NaN</td>\n",
              "      <td>40.865905</td>\n",
              "      <td>-73.830430</td>\n",
              "      <td>210.0</td>\n",
              "      <td>12.0</td>\n",
              "      <td>46201.0</td>\n",
              "      <td>2.051410e+09</td>\n",
              "      <td>2120098.0</td>\n",
              "      <td>Co-op City</td>\n",
              "      <td>BX13</td>\n",
              "    </tr>\n",
              "  </tbody>\n",
              "</table>\n",
              "<p>3 rows × 23 columns</p>\n",
              "</div>\n",
              "      <button class=\"colab-df-convert\" onclick=\"convertToInteractive('df-d13680eb-2a4d-4f94-be28-ddb1c3ae281f')\"\n",
              "              title=\"Convert this dataframe to an interactive table.\"\n",
              "              style=\"display:none;\">\n",
              "        \n",
              "  <svg xmlns=\"http://www.w3.org/2000/svg\" height=\"24px\"viewBox=\"0 0 24 24\"\n",
              "       width=\"24px\">\n",
              "    <path d=\"M0 0h24v24H0V0z\" fill=\"none\"/>\n",
              "    <path d=\"M18.56 5.44l.94 2.06.94-2.06 2.06-.94-2.06-.94-.94-2.06-.94 2.06-2.06.94zm-11 1L8.5 8.5l.94-2.06 2.06-.94-2.06-.94L8.5 2.5l-.94 2.06-2.06.94zm10 10l.94 2.06.94-2.06 2.06-.94-2.06-.94-.94-2.06-.94 2.06-2.06.94z\"/><path d=\"M17.41 7.96l-1.37-1.37c-.4-.4-.92-.59-1.43-.59-.52 0-1.04.2-1.43.59L10.3 9.45l-7.72 7.72c-.78.78-.78 2.05 0 2.83L4 21.41c.39.39.9.59 1.41.59.51 0 1.02-.2 1.41-.59l7.78-7.78 2.81-2.81c.8-.78.8-2.07 0-2.86zM5.41 20L4 18.59l7.72-7.72 1.47 1.35L5.41 20z\"/>\n",
              "  </svg>\n",
              "      </button>\n",
              "      \n",
              "  <style>\n",
              "    .colab-df-container {\n",
              "      display:flex;\n",
              "      flex-wrap:wrap;\n",
              "      gap: 12px;\n",
              "    }\n",
              "\n",
              "    .colab-df-convert {\n",
              "      background-color: #E8F0FE;\n",
              "      border: none;\n",
              "      border-radius: 50%;\n",
              "      cursor: pointer;\n",
              "      display: none;\n",
              "      fill: #1967D2;\n",
              "      height: 32px;\n",
              "      padding: 0 0 0 0;\n",
              "      width: 32px;\n",
              "    }\n",
              "\n",
              "    .colab-df-convert:hover {\n",
              "      background-color: #E2EBFA;\n",
              "      box-shadow: 0px 1px 2px rgba(60, 64, 67, 0.3), 0px 1px 3px 1px rgba(60, 64, 67, 0.15);\n",
              "      fill: #174EA6;\n",
              "    }\n",
              "\n",
              "    [theme=dark] .colab-df-convert {\n",
              "      background-color: #3B4455;\n",
              "      fill: #D2E3FC;\n",
              "    }\n",
              "\n",
              "    [theme=dark] .colab-df-convert:hover {\n",
              "      background-color: #434B5C;\n",
              "      box-shadow: 0px 1px 3px 1px rgba(0, 0, 0, 0.15);\n",
              "      filter: drop-shadow(0px 1px 2px rgba(0, 0, 0, 0.3));\n",
              "      fill: #FFFFFF;\n",
              "    }\n",
              "  </style>\n",
              "\n",
              "      <script>\n",
              "        const buttonEl =\n",
              "          document.querySelector('#df-d13680eb-2a4d-4f94-be28-ddb1c3ae281f button.colab-df-convert');\n",
              "        buttonEl.style.display =\n",
              "          google.colab.kernel.accessAllowed ? 'block' : 'none';\n",
              "\n",
              "        async function convertToInteractive(key) {\n",
              "          const element = document.querySelector('#df-d13680eb-2a4d-4f94-be28-ddb1c3ae281f');\n",
              "          const dataTable =\n",
              "            await google.colab.kernel.invokeFunction('convertToInteractive',\n",
              "                                                     [key], {});\n",
              "          if (!dataTable) return;\n",
              "\n",
              "          const docLinkHtml = 'Like what you see? Visit the ' +\n",
              "            '<a target=\"_blank\" href=https://colab.research.google.com/notebooks/data_table.ipynb>data table notebook</a>'\n",
              "            + ' to learn more about interactive tables.';\n",
              "          element.innerHTML = '';\n",
              "          dataTable['output_type'] = 'display_data';\n",
              "          await google.colab.output.renderOutput(dataTable, element);\n",
              "          const docLink = document.createElement('div');\n",
              "          docLink.innerHTML = docLinkHtml;\n",
              "          element.appendChild(docLink);\n",
              "        }\n",
              "      </script>\n",
              "    </div>\n",
              "  </div>\n",
              "  "
            ]
          },
          "metadata": {},
          "execution_count": 3
        }
      ]
    },
    {
      "cell_type": "code",
      "source": [
        "df.columns"
      ],
      "metadata": {
        "colab": {
          "base_uri": "https://localhost:8080/"
        },
        "id": "jJCbzEtE_6I3",
        "outputId": "74e0ca16-b4e4-4fb4-8703-949766d7fa8a"
      },
      "execution_count": 4,
      "outputs": [
        {
          "output_type": "execute_result",
          "data": {
            "text/plain": [
              "Index(['Permit_Type', 'ACCELA', 'Facility_Name', 'ADDRESS_ No', 'ADDRESS_St',\n",
              "       'BO', 'ZIP', 'Inspection_Date', 'Inspection_Type',\n",
              "       '# of All Violations', '# of PHH Violations',\n",
              "       '# of Critical Violations', '# of General Violations', 'DOCKET', 'Lat',\n",
              "       'Long', 'Community Board', 'Council District', 'Census tract',\n",
              "       'Boro-Block-Lot', 'BIN', 'NTA', 'NTA Code'],\n",
              "      dtype='object')"
            ]
          },
          "metadata": {},
          "execution_count": 4
        }
      ]
    },
    {
      "cell_type": "code",
      "source": [
        "# keeping only the columns of interest\n",
        "df = df[['Permit_Type', 'BO', 'ZIP', 'Lat', 'Long', '# of Critical Violations']] \n",
        "# using 'X' & 'Y' instead of 'Lat' & 'Long' because to prevent errors from negative values & values with long decimals\n",
        "df"
      ],
      "metadata": {
        "colab": {
          "base_uri": "https://localhost:8080/",
          "height": 423
        },
        "id": "cXdwfjcUAUdo",
        "outputId": "2702af8f-5614-4184-f010-6fd81f2bc8bc"
      },
      "execution_count": 6,
      "outputs": [
        {
          "output_type": "execute_result",
          "data": {
            "text/plain": [
              "     Permit_Type  BO    ZIP        Lat       Long  # of Critical Violations\n",
              "0         Indoor  MA  10038  40.709291 -74.005944                         3\n",
              "1         Indoor  MA  10001  40.752579 -74.002252                         0\n",
              "2         Indoor  BX  10475  40.865905 -73.830430                         0\n",
              "3         Indoor  BX  10461  40.851176 -73.844821                         0\n",
              "4         Indoor  QU  11471  40.679631 -73.837298                         1\n",
              "...          ...  ..    ...        ...        ...                       ...\n",
              "2491      Indoor  MA  10014  40.740107 -74.005961                         0\n",
              "2492      Indoor  MA  10016  40.748396 -73.974711                         0\n",
              "2493      Indoor  MA  10024  40.775601 -73.982149                         0\n",
              "2494      Indoor  QU  11103  40.764208 -73.915661                         1\n",
              "2495      Indoor  QU  11104  40.744014 -73.926004                         1\n",
              "\n",
              "[2496 rows x 6 columns]"
            ],
            "text/html": [
              "\n",
              "  <div id=\"df-18bc20f1-ceb5-49bf-83f4-59beb2268259\">\n",
              "    <div class=\"colab-df-container\">\n",
              "      <div>\n",
              "<style scoped>\n",
              "    .dataframe tbody tr th:only-of-type {\n",
              "        vertical-align: middle;\n",
              "    }\n",
              "\n",
              "    .dataframe tbody tr th {\n",
              "        vertical-align: top;\n",
              "    }\n",
              "\n",
              "    .dataframe thead th {\n",
              "        text-align: right;\n",
              "    }\n",
              "</style>\n",
              "<table border=\"1\" class=\"dataframe\">\n",
              "  <thead>\n",
              "    <tr style=\"text-align: right;\">\n",
              "      <th></th>\n",
              "      <th>Permit_Type</th>\n",
              "      <th>BO</th>\n",
              "      <th>ZIP</th>\n",
              "      <th>Lat</th>\n",
              "      <th>Long</th>\n",
              "      <th># of Critical Violations</th>\n",
              "    </tr>\n",
              "  </thead>\n",
              "  <tbody>\n",
              "    <tr>\n",
              "      <th>0</th>\n",
              "      <td>Indoor</td>\n",
              "      <td>MA</td>\n",
              "      <td>10038</td>\n",
              "      <td>40.709291</td>\n",
              "      <td>-74.005944</td>\n",
              "      <td>3</td>\n",
              "    </tr>\n",
              "    <tr>\n",
              "      <th>1</th>\n",
              "      <td>Indoor</td>\n",
              "      <td>MA</td>\n",
              "      <td>10001</td>\n",
              "      <td>40.752579</td>\n",
              "      <td>-74.002252</td>\n",
              "      <td>0</td>\n",
              "    </tr>\n",
              "    <tr>\n",
              "      <th>2</th>\n",
              "      <td>Indoor</td>\n",
              "      <td>BX</td>\n",
              "      <td>10475</td>\n",
              "      <td>40.865905</td>\n",
              "      <td>-73.830430</td>\n",
              "      <td>0</td>\n",
              "    </tr>\n",
              "    <tr>\n",
              "      <th>3</th>\n",
              "      <td>Indoor</td>\n",
              "      <td>BX</td>\n",
              "      <td>10461</td>\n",
              "      <td>40.851176</td>\n",
              "      <td>-73.844821</td>\n",
              "      <td>0</td>\n",
              "    </tr>\n",
              "    <tr>\n",
              "      <th>4</th>\n",
              "      <td>Indoor</td>\n",
              "      <td>QU</td>\n",
              "      <td>11471</td>\n",
              "      <td>40.679631</td>\n",
              "      <td>-73.837298</td>\n",
              "      <td>1</td>\n",
              "    </tr>\n",
              "    <tr>\n",
              "      <th>...</th>\n",
              "      <td>...</td>\n",
              "      <td>...</td>\n",
              "      <td>...</td>\n",
              "      <td>...</td>\n",
              "      <td>...</td>\n",
              "      <td>...</td>\n",
              "    </tr>\n",
              "    <tr>\n",
              "      <th>2491</th>\n",
              "      <td>Indoor</td>\n",
              "      <td>MA</td>\n",
              "      <td>10014</td>\n",
              "      <td>40.740107</td>\n",
              "      <td>-74.005961</td>\n",
              "      <td>0</td>\n",
              "    </tr>\n",
              "    <tr>\n",
              "      <th>2492</th>\n",
              "      <td>Indoor</td>\n",
              "      <td>MA</td>\n",
              "      <td>10016</td>\n",
              "      <td>40.748396</td>\n",
              "      <td>-73.974711</td>\n",
              "      <td>0</td>\n",
              "    </tr>\n",
              "    <tr>\n",
              "      <th>2493</th>\n",
              "      <td>Indoor</td>\n",
              "      <td>MA</td>\n",
              "      <td>10024</td>\n",
              "      <td>40.775601</td>\n",
              "      <td>-73.982149</td>\n",
              "      <td>0</td>\n",
              "    </tr>\n",
              "    <tr>\n",
              "      <th>2494</th>\n",
              "      <td>Indoor</td>\n",
              "      <td>QU</td>\n",
              "      <td>11103</td>\n",
              "      <td>40.764208</td>\n",
              "      <td>-73.915661</td>\n",
              "      <td>1</td>\n",
              "    </tr>\n",
              "    <tr>\n",
              "      <th>2495</th>\n",
              "      <td>Indoor</td>\n",
              "      <td>QU</td>\n",
              "      <td>11104</td>\n",
              "      <td>40.744014</td>\n",
              "      <td>-73.926004</td>\n",
              "      <td>1</td>\n",
              "    </tr>\n",
              "  </tbody>\n",
              "</table>\n",
              "<p>2496 rows × 6 columns</p>\n",
              "</div>\n",
              "      <button class=\"colab-df-convert\" onclick=\"convertToInteractive('df-18bc20f1-ceb5-49bf-83f4-59beb2268259')\"\n",
              "              title=\"Convert this dataframe to an interactive table.\"\n",
              "              style=\"display:none;\">\n",
              "        \n",
              "  <svg xmlns=\"http://www.w3.org/2000/svg\" height=\"24px\"viewBox=\"0 0 24 24\"\n",
              "       width=\"24px\">\n",
              "    <path d=\"M0 0h24v24H0V0z\" fill=\"none\"/>\n",
              "    <path d=\"M18.56 5.44l.94 2.06.94-2.06 2.06-.94-2.06-.94-.94-2.06-.94 2.06-2.06.94zm-11 1L8.5 8.5l.94-2.06 2.06-.94-2.06-.94L8.5 2.5l-.94 2.06-2.06.94zm10 10l.94 2.06.94-2.06 2.06-.94-2.06-.94-.94-2.06-.94 2.06-2.06.94z\"/><path d=\"M17.41 7.96l-1.37-1.37c-.4-.4-.92-.59-1.43-.59-.52 0-1.04.2-1.43.59L10.3 9.45l-7.72 7.72c-.78.78-.78 2.05 0 2.83L4 21.41c.39.39.9.59 1.41.59.51 0 1.02-.2 1.41-.59l7.78-7.78 2.81-2.81c.8-.78.8-2.07 0-2.86zM5.41 20L4 18.59l7.72-7.72 1.47 1.35L5.41 20z\"/>\n",
              "  </svg>\n",
              "      </button>\n",
              "      \n",
              "  <style>\n",
              "    .colab-df-container {\n",
              "      display:flex;\n",
              "      flex-wrap:wrap;\n",
              "      gap: 12px;\n",
              "    }\n",
              "\n",
              "    .colab-df-convert {\n",
              "      background-color: #E8F0FE;\n",
              "      border: none;\n",
              "      border-radius: 50%;\n",
              "      cursor: pointer;\n",
              "      display: none;\n",
              "      fill: #1967D2;\n",
              "      height: 32px;\n",
              "      padding: 0 0 0 0;\n",
              "      width: 32px;\n",
              "    }\n",
              "\n",
              "    .colab-df-convert:hover {\n",
              "      background-color: #E2EBFA;\n",
              "      box-shadow: 0px 1px 2px rgba(60, 64, 67, 0.3), 0px 1px 3px 1px rgba(60, 64, 67, 0.15);\n",
              "      fill: #174EA6;\n",
              "    }\n",
              "\n",
              "    [theme=dark] .colab-df-convert {\n",
              "      background-color: #3B4455;\n",
              "      fill: #D2E3FC;\n",
              "    }\n",
              "\n",
              "    [theme=dark] .colab-df-convert:hover {\n",
              "      background-color: #434B5C;\n",
              "      box-shadow: 0px 1px 3px 1px rgba(0, 0, 0, 0.15);\n",
              "      filter: drop-shadow(0px 1px 2px rgba(0, 0, 0, 0.3));\n",
              "      fill: #FFFFFF;\n",
              "    }\n",
              "  </style>\n",
              "\n",
              "      <script>\n",
              "        const buttonEl =\n",
              "          document.querySelector('#df-18bc20f1-ceb5-49bf-83f4-59beb2268259 button.colab-df-convert');\n",
              "        buttonEl.style.display =\n",
              "          google.colab.kernel.accessAllowed ? 'block' : 'none';\n",
              "\n",
              "        async function convertToInteractive(key) {\n",
              "          const element = document.querySelector('#df-18bc20f1-ceb5-49bf-83f4-59beb2268259');\n",
              "          const dataTable =\n",
              "            await google.colab.kernel.invokeFunction('convertToInteractive',\n",
              "                                                     [key], {});\n",
              "          if (!dataTable) return;\n",
              "\n",
              "          const docLinkHtml = 'Like what you see? Visit the ' +\n",
              "            '<a target=\"_blank\" href=https://colab.research.google.com/notebooks/data_table.ipynb>data table notebook</a>'\n",
              "            + ' to learn more about interactive tables.';\n",
              "          element.innerHTML = '';\n",
              "          dataTable['output_type'] = 'display_data';\n",
              "          await google.colab.output.renderOutput(dataTable, element);\n",
              "          const docLink = document.createElement('div');\n",
              "          docLink.innerHTML = docLinkHtml;\n",
              "          element.appendChild(docLink);\n",
              "        }\n",
              "      </script>\n",
              "    </div>\n",
              "  </div>\n",
              "  "
            ]
          },
          "metadata": {},
          "execution_count": 6
        }
      ]
    },
    {
      "cell_type": "code",
      "source": [
        "# need to create a numeric columns for Permit_Type & BO, because the decision tree does not accept strings\n",
        "df['PType_Code'] = df['Permit_Type'].map({'Indoor':1,'Outdoor':2})\n",
        "df['Borough_Code'] = df['BO'].map({'BX':1, 'BK':2, 'MA':3, 'QU':4, 'SI':5})"
      ],
      "metadata": {
        "id": "l4rASdbw4ckd",
        "colab": {
          "base_uri": "https://localhost:8080/"
        },
        "outputId": "93f00fd1-57e2-45fa-e18f-db99efa4b065"
      },
      "execution_count": 7,
      "outputs": [
        {
          "output_type": "stream",
          "name": "stderr",
          "text": [
            "<ipython-input-7-bc6c056af730>:2: SettingWithCopyWarning: \n",
            "A value is trying to be set on a copy of a slice from a DataFrame.\n",
            "Try using .loc[row_indexer,col_indexer] = value instead\n",
            "\n",
            "See the caveats in the documentation: https://pandas.pydata.org/pandas-docs/stable/user_guide/indexing.html#returning-a-view-versus-a-copy\n",
            "  df['PType_Code'] = df['Permit_Type'].map({'Indoor':1,'Outdoor':2})\n",
            "<ipython-input-7-bc6c056af730>:3: SettingWithCopyWarning: \n",
            "A value is trying to be set on a copy of a slice from a DataFrame.\n",
            "Try using .loc[row_indexer,col_indexer] = value instead\n",
            "\n",
            "See the caveats in the documentation: https://pandas.pydata.org/pandas-docs/stable/user_guide/indexing.html#returning-a-view-versus-a-copy\n",
            "  df['Borough_Code'] = df['BO'].map({'BX':1, 'BK':2, 'MA':3, 'QU':4, 'SI':5})\n"
          ]
        }
      ]
    },
    {
      "cell_type": "code",
      "source": [
        "df = df[['Permit_Type', 'PType_Code', 'BO', 'Borough_Code', 'ZIP', 'Lat', 'Long', '# of Critical Violations']]\n",
        "df"
      ],
      "metadata": {
        "colab": {
          "base_uri": "https://localhost:8080/",
          "height": 423
        },
        "id": "M7z2oTPGHiEg",
        "outputId": "93b7d02f-a3ee-427f-f0c1-2fc1d3dfd2d4"
      },
      "execution_count": 9,
      "outputs": [
        {
          "output_type": "execute_result",
          "data": {
            "text/plain": [
              "     Permit_Type  PType_Code  BO  Borough_Code    ZIP        Lat       Long  \\\n",
              "0         Indoor           1  MA             3  10038  40.709291 -74.005944   \n",
              "1         Indoor           1  MA             3  10001  40.752579 -74.002252   \n",
              "2         Indoor           1  BX             1  10475  40.865905 -73.830430   \n",
              "3         Indoor           1  BX             1  10461  40.851176 -73.844821   \n",
              "4         Indoor           1  QU             4  11471  40.679631 -73.837298   \n",
              "...          ...         ...  ..           ...    ...        ...        ...   \n",
              "2491      Indoor           1  MA             3  10014  40.740107 -74.005961   \n",
              "2492      Indoor           1  MA             3  10016  40.748396 -73.974711   \n",
              "2493      Indoor           1  MA             3  10024  40.775601 -73.982149   \n",
              "2494      Indoor           1  QU             4  11103  40.764208 -73.915661   \n",
              "2495      Indoor           1  QU             4  11104  40.744014 -73.926004   \n",
              "\n",
              "      # of Critical Violations  \n",
              "0                            3  \n",
              "1                            0  \n",
              "2                            0  \n",
              "3                            0  \n",
              "4                            1  \n",
              "...                        ...  \n",
              "2491                         0  \n",
              "2492                         0  \n",
              "2493                         0  \n",
              "2494                         1  \n",
              "2495                         1  \n",
              "\n",
              "[2496 rows x 8 columns]"
            ],
            "text/html": [
              "\n",
              "  <div id=\"df-9c18cfd1-ed1d-48a2-890f-a94f281a6644\">\n",
              "    <div class=\"colab-df-container\">\n",
              "      <div>\n",
              "<style scoped>\n",
              "    .dataframe tbody tr th:only-of-type {\n",
              "        vertical-align: middle;\n",
              "    }\n",
              "\n",
              "    .dataframe tbody tr th {\n",
              "        vertical-align: top;\n",
              "    }\n",
              "\n",
              "    .dataframe thead th {\n",
              "        text-align: right;\n",
              "    }\n",
              "</style>\n",
              "<table border=\"1\" class=\"dataframe\">\n",
              "  <thead>\n",
              "    <tr style=\"text-align: right;\">\n",
              "      <th></th>\n",
              "      <th>Permit_Type</th>\n",
              "      <th>PType_Code</th>\n",
              "      <th>BO</th>\n",
              "      <th>Borough_Code</th>\n",
              "      <th>ZIP</th>\n",
              "      <th>Lat</th>\n",
              "      <th>Long</th>\n",
              "      <th># of Critical Violations</th>\n",
              "    </tr>\n",
              "  </thead>\n",
              "  <tbody>\n",
              "    <tr>\n",
              "      <th>0</th>\n",
              "      <td>Indoor</td>\n",
              "      <td>1</td>\n",
              "      <td>MA</td>\n",
              "      <td>3</td>\n",
              "      <td>10038</td>\n",
              "      <td>40.709291</td>\n",
              "      <td>-74.005944</td>\n",
              "      <td>3</td>\n",
              "    </tr>\n",
              "    <tr>\n",
              "      <th>1</th>\n",
              "      <td>Indoor</td>\n",
              "      <td>1</td>\n",
              "      <td>MA</td>\n",
              "      <td>3</td>\n",
              "      <td>10001</td>\n",
              "      <td>40.752579</td>\n",
              "      <td>-74.002252</td>\n",
              "      <td>0</td>\n",
              "    </tr>\n",
              "    <tr>\n",
              "      <th>2</th>\n",
              "      <td>Indoor</td>\n",
              "      <td>1</td>\n",
              "      <td>BX</td>\n",
              "      <td>1</td>\n",
              "      <td>10475</td>\n",
              "      <td>40.865905</td>\n",
              "      <td>-73.830430</td>\n",
              "      <td>0</td>\n",
              "    </tr>\n",
              "    <tr>\n",
              "      <th>3</th>\n",
              "      <td>Indoor</td>\n",
              "      <td>1</td>\n",
              "      <td>BX</td>\n",
              "      <td>1</td>\n",
              "      <td>10461</td>\n",
              "      <td>40.851176</td>\n",
              "      <td>-73.844821</td>\n",
              "      <td>0</td>\n",
              "    </tr>\n",
              "    <tr>\n",
              "      <th>4</th>\n",
              "      <td>Indoor</td>\n",
              "      <td>1</td>\n",
              "      <td>QU</td>\n",
              "      <td>4</td>\n",
              "      <td>11471</td>\n",
              "      <td>40.679631</td>\n",
              "      <td>-73.837298</td>\n",
              "      <td>1</td>\n",
              "    </tr>\n",
              "    <tr>\n",
              "      <th>...</th>\n",
              "      <td>...</td>\n",
              "      <td>...</td>\n",
              "      <td>...</td>\n",
              "      <td>...</td>\n",
              "      <td>...</td>\n",
              "      <td>...</td>\n",
              "      <td>...</td>\n",
              "      <td>...</td>\n",
              "    </tr>\n",
              "    <tr>\n",
              "      <th>2491</th>\n",
              "      <td>Indoor</td>\n",
              "      <td>1</td>\n",
              "      <td>MA</td>\n",
              "      <td>3</td>\n",
              "      <td>10014</td>\n",
              "      <td>40.740107</td>\n",
              "      <td>-74.005961</td>\n",
              "      <td>0</td>\n",
              "    </tr>\n",
              "    <tr>\n",
              "      <th>2492</th>\n",
              "      <td>Indoor</td>\n",
              "      <td>1</td>\n",
              "      <td>MA</td>\n",
              "      <td>3</td>\n",
              "      <td>10016</td>\n",
              "      <td>40.748396</td>\n",
              "      <td>-73.974711</td>\n",
              "      <td>0</td>\n",
              "    </tr>\n",
              "    <tr>\n",
              "      <th>2493</th>\n",
              "      <td>Indoor</td>\n",
              "      <td>1</td>\n",
              "      <td>MA</td>\n",
              "      <td>3</td>\n",
              "      <td>10024</td>\n",
              "      <td>40.775601</td>\n",
              "      <td>-73.982149</td>\n",
              "      <td>0</td>\n",
              "    </tr>\n",
              "    <tr>\n",
              "      <th>2494</th>\n",
              "      <td>Indoor</td>\n",
              "      <td>1</td>\n",
              "      <td>QU</td>\n",
              "      <td>4</td>\n",
              "      <td>11103</td>\n",
              "      <td>40.764208</td>\n",
              "      <td>-73.915661</td>\n",
              "      <td>1</td>\n",
              "    </tr>\n",
              "    <tr>\n",
              "      <th>2495</th>\n",
              "      <td>Indoor</td>\n",
              "      <td>1</td>\n",
              "      <td>QU</td>\n",
              "      <td>4</td>\n",
              "      <td>11104</td>\n",
              "      <td>40.744014</td>\n",
              "      <td>-73.926004</td>\n",
              "      <td>1</td>\n",
              "    </tr>\n",
              "  </tbody>\n",
              "</table>\n",
              "<p>2496 rows × 8 columns</p>\n",
              "</div>\n",
              "      <button class=\"colab-df-convert\" onclick=\"convertToInteractive('df-9c18cfd1-ed1d-48a2-890f-a94f281a6644')\"\n",
              "              title=\"Convert this dataframe to an interactive table.\"\n",
              "              style=\"display:none;\">\n",
              "        \n",
              "  <svg xmlns=\"http://www.w3.org/2000/svg\" height=\"24px\"viewBox=\"0 0 24 24\"\n",
              "       width=\"24px\">\n",
              "    <path d=\"M0 0h24v24H0V0z\" fill=\"none\"/>\n",
              "    <path d=\"M18.56 5.44l.94 2.06.94-2.06 2.06-.94-2.06-.94-.94-2.06-.94 2.06-2.06.94zm-11 1L8.5 8.5l.94-2.06 2.06-.94-2.06-.94L8.5 2.5l-.94 2.06-2.06.94zm10 10l.94 2.06.94-2.06 2.06-.94-2.06-.94-.94-2.06-.94 2.06-2.06.94z\"/><path d=\"M17.41 7.96l-1.37-1.37c-.4-.4-.92-.59-1.43-.59-.52 0-1.04.2-1.43.59L10.3 9.45l-7.72 7.72c-.78.78-.78 2.05 0 2.83L4 21.41c.39.39.9.59 1.41.59.51 0 1.02-.2 1.41-.59l7.78-7.78 2.81-2.81c.8-.78.8-2.07 0-2.86zM5.41 20L4 18.59l7.72-7.72 1.47 1.35L5.41 20z\"/>\n",
              "  </svg>\n",
              "      </button>\n",
              "      \n",
              "  <style>\n",
              "    .colab-df-container {\n",
              "      display:flex;\n",
              "      flex-wrap:wrap;\n",
              "      gap: 12px;\n",
              "    }\n",
              "\n",
              "    .colab-df-convert {\n",
              "      background-color: #E8F0FE;\n",
              "      border: none;\n",
              "      border-radius: 50%;\n",
              "      cursor: pointer;\n",
              "      display: none;\n",
              "      fill: #1967D2;\n",
              "      height: 32px;\n",
              "      padding: 0 0 0 0;\n",
              "      width: 32px;\n",
              "    }\n",
              "\n",
              "    .colab-df-convert:hover {\n",
              "      background-color: #E2EBFA;\n",
              "      box-shadow: 0px 1px 2px rgba(60, 64, 67, 0.3), 0px 1px 3px 1px rgba(60, 64, 67, 0.15);\n",
              "      fill: #174EA6;\n",
              "    }\n",
              "\n",
              "    [theme=dark] .colab-df-convert {\n",
              "      background-color: #3B4455;\n",
              "      fill: #D2E3FC;\n",
              "    }\n",
              "\n",
              "    [theme=dark] .colab-df-convert:hover {\n",
              "      background-color: #434B5C;\n",
              "      box-shadow: 0px 1px 3px 1px rgba(0, 0, 0, 0.15);\n",
              "      filter: drop-shadow(0px 1px 2px rgba(0, 0, 0, 0.3));\n",
              "      fill: #FFFFFF;\n",
              "    }\n",
              "  </style>\n",
              "\n",
              "      <script>\n",
              "        const buttonEl =\n",
              "          document.querySelector('#df-9c18cfd1-ed1d-48a2-890f-a94f281a6644 button.colab-df-convert');\n",
              "        buttonEl.style.display =\n",
              "          google.colab.kernel.accessAllowed ? 'block' : 'none';\n",
              "\n",
              "        async function convertToInteractive(key) {\n",
              "          const element = document.querySelector('#df-9c18cfd1-ed1d-48a2-890f-a94f281a6644');\n",
              "          const dataTable =\n",
              "            await google.colab.kernel.invokeFunction('convertToInteractive',\n",
              "                                                     [key], {});\n",
              "          if (!dataTable) return;\n",
              "\n",
              "          const docLinkHtml = 'Like what you see? Visit the ' +\n",
              "            '<a target=\"_blank\" href=https://colab.research.google.com/notebooks/data_table.ipynb>data table notebook</a>'\n",
              "            + ' to learn more about interactive tables.';\n",
              "          element.innerHTML = '';\n",
              "          dataTable['output_type'] = 'display_data';\n",
              "          await google.colab.output.renderOutput(dataTable, element);\n",
              "          const docLink = document.createElement('div');\n",
              "          docLink.innerHTML = docLinkHtml;\n",
              "          element.appendChild(docLink);\n",
              "        }\n",
              "      </script>\n",
              "    </div>\n",
              "  </div>\n",
              "  "
            ]
          },
          "metadata": {},
          "execution_count": 9
        }
      ]
    },
    {
      "cell_type": "code",
      "source": [
        "df.dtypes"
      ],
      "metadata": {
        "colab": {
          "base_uri": "https://localhost:8080/"
        },
        "id": "9-7kR2jG_8PZ",
        "outputId": "67eb70bf-6efe-431f-f826-8b73981e19c6"
      },
      "execution_count": 10,
      "outputs": [
        {
          "output_type": "execute_result",
          "data": {
            "text/plain": [
              "Permit_Type                  object\n",
              "PType_Code                    int64\n",
              "BO                           object\n",
              "Borough_Code                  int64\n",
              "ZIP                           int64\n",
              "Lat                         float64\n",
              "Long                        float64\n",
              "# of Critical Violations      int64\n",
              "dtype: object"
            ]
          },
          "metadata": {},
          "execution_count": 10
        }
      ]
    },
    {
      "cell_type": "code",
      "source": [
        "# removing NaN values\n",
        "df = df.dropna()\n",
        "# removing duplicates\n",
        "df = df.drop_duplicates()\n",
        "\n",
        "df.shape"
      ],
      "metadata": {
        "colab": {
          "base_uri": "https://localhost:8080/"
        },
        "id": "ukz9scjKCCbn",
        "outputId": "6317f174-da13-4a2c-d41b-4265de824f76"
      },
      "execution_count": 11,
      "outputs": [
        {
          "output_type": "execute_result",
          "data": {
            "text/plain": [
              "(1275, 8)"
            ]
          },
          "metadata": {},
          "execution_count": 11
        }
      ]
    },
    {
      "cell_type": "code",
      "source": [
        "df['# of Critical Violations'].value_counts() # checking distributions of possible labels"
      ],
      "metadata": {
        "colab": {
          "base_uri": "https://localhost:8080/"
        },
        "id": "LKdw1oPhaM7I",
        "outputId": "ee34bac4-92b1-407f-cdb0-86c51db11715"
      },
      "execution_count": 12,
      "outputs": [
        {
          "output_type": "execute_result",
          "data": {
            "text/plain": [
              "0    901\n",
              "1    269\n",
              "2     80\n",
              "3     18\n",
              "4      6\n",
              "5      1\n",
              "Name: # of Critical Violations, dtype: int64"
            ]
          },
          "metadata": {},
          "execution_count": 12
        }
      ]
    },
    {
      "cell_type": "code",
      "source": [
        "# changing the target column into strings so that they can be used as labels\n",
        "df['# of Critical Violations'] = df['# of Critical Violations'].astype(str)"
      ],
      "metadata": {
        "id": "KH8hXZUbc1Kw"
      },
      "execution_count": 13,
      "outputs": []
    },
    {
      "cell_type": "code",
      "source": [
        "# setting the features to be used for the following decision tree classification\n",
        "features_1 = ['Lat', 'Long'] # starting with the two most precise features\n",
        "target = ['# of Critical Violations']"
      ],
      "metadata": {
        "id": "TVN9N9iDc9J0"
      },
      "execution_count": 14,
      "outputs": []
    },
    {
      "cell_type": "code",
      "source": [
        "X = df[features_1].values # isolating the data of the features\n",
        "y = df[target].values # isolating the data of the target of prediction"
      ],
      "metadata": {
        "id": "7vd2TlR4dQfF"
      },
      "execution_count": 15,
      "outputs": []
    },
    {
      "cell_type": "code",
      "source": [
        "y = y.ravel() # turning y from a two dimensional array to a one dimensional array\n",
        "y"
      ],
      "metadata": {
        "colab": {
          "base_uri": "https://localhost:8080/"
        },
        "id": "j3ZFcsbPZa7X",
        "outputId": "9ae96313-164e-4a85-e1f2-205617da2222"
      },
      "execution_count": 16,
      "outputs": [
        {
          "output_type": "execute_result",
          "data": {
            "text/plain": [
              "array(['3', '0', '0', ..., '0', '0', '1'], dtype=object)"
            ]
          },
          "metadata": {},
          "execution_count": 16
        }
      ]
    },
    {
      "cell_type": "code",
      "source": [
        "# splitting data into training & testing datasets\n",
        "X_train, X_test, y_train, y_test = train_test_split(X, y, test_size=0.2, random_state=1) # splitting into training & testing (4:1)"
      ],
      "metadata": {
        "id": "fCdi9MiSdg18"
      },
      "execution_count": 17,
      "outputs": []
    },
    {
      "cell_type": "code",
      "source": [
        "print('training dataset (X_train):', X_train.shape, '\\ntesting dataset: (X_test)', X_test.shape, \n",
        "      '\\ntraining labels: (y_train)', y_train.shape, '\\ntesting labels: (y_test)', y_test.shape)"
      ],
      "metadata": {
        "colab": {
          "base_uri": "https://localhost:8080/"
        },
        "id": "bM8d63zld5Hg",
        "outputId": "36915086-0520-4d87-fcf7-5291a1d5f656"
      },
      "execution_count": 18,
      "outputs": [
        {
          "output_type": "stream",
          "name": "stdout",
          "text": [
            "training dataset (X_train): (1020, 2) \n",
            "testing dataset: (X_test) (255, 2) \n",
            "training labels: (y_train) (1020,) \n",
            "testing labels: (y_test) (255,)\n"
          ]
        }
      ]
    },
    {
      "cell_type": "code",
      "source": [
        "from sklearn.tree import DecisionTreeClassifier\n",
        "\n",
        "desi_tree_1 = DecisionTreeClassifier(max_depth=6, random_state=42) \n",
        "desi_tree_1.fit(X_train, y_train)"
      ],
      "metadata": {
        "colab": {
          "base_uri": "https://localhost:8080/"
        },
        "id": "uZSNHHQAZ8AU",
        "outputId": "6a1333f6-35a4-4045-b60d-98f928da4ef3"
      },
      "execution_count": 19,
      "outputs": [
        {
          "output_type": "execute_result",
          "data": {
            "text/plain": [
              "DecisionTreeClassifier(max_depth=6, random_state=42)"
            ]
          },
          "metadata": {},
          "execution_count": 19
        }
      ]
    },
    {
      "cell_type": "code",
      "source": [
        "y_unique = np.unique(y) # to get an array of unique labels"
      ],
      "metadata": {
        "id": "I1-YekXecHEd"
      },
      "execution_count": 20,
      "outputs": []
    },
    {
      "cell_type": "code",
      "source": [
        "# creating a decision tree img file in a folder\n",
        "export_graphviz(\n",
        "        desi_tree_1,\n",
        "        out_file=os.path.join(IMAGES_PATH, \"pool_tree_1.dot\"),\n",
        "        feature_names = features_1,\n",
        "        class_names = y_unique,\n",
        "        rounded=True,filled=True)\n",
        "\n",
        "Source.from_file(os.path.join(IMAGES_PATH, \"pool_tree_1.dot\"))"
      ],
      "metadata": {
        "colab": {
          "base_uri": "https://localhost:8080/",
          "height": 1000
        },
        "id": "hyHGgb6IaH_q",
        "outputId": "74b7155f-09b3-4976-f06c-e08fb94491da"
      },
      "execution_count": 21,
      "outputs": [
        {
          "output_type": "execute_result",
          "data": {
            "text/plain": [
              "<graphviz.files.Source at 0x7fd33e002af0>"
            ],
            "image/svg+xml": "<?xml version=\"1.0\" encoding=\"UTF-8\" standalone=\"no\"?>\n<!DOCTYPE svg PUBLIC \"-//W3C//DTD SVG 1.1//EN\"\n \"http://www.w3.org/Graphics/SVG/1.1/DTD/svg11.dtd\">\n<!-- Generated by graphviz version 2.43.0 (0)\n -->\n<!-- Title: Tree Pages: 1 -->\n<svg width=\"3603pt\" height=\"790pt\"\n viewBox=\"0.00 0.00 3602.50 790.00\" xmlns=\"http://www.w3.org/2000/svg\" xmlns:xlink=\"http://www.w3.org/1999/xlink\">\n<g id=\"graph0\" class=\"graph\" transform=\"scale(1 1) rotate(0) translate(4 786)\">\n<title>Tree</title>\n<polygon fill=\"white\" stroke=\"transparent\" points=\"-4,4 -4,-786 3598.5,-786 3598.5,4 -4,4\"/>\n<!-- 0 -->\n<g id=\"node1\" class=\"node\">\n<title>0</title>\n<path fill=\"#eeae80\" stroke=\"black\" d=\"M1177,-782C1177,-782 1016,-782 1016,-782 1010,-782 1004,-776 1004,-770 1004,-770 1004,-711 1004,-711 1004,-705 1010,-699 1016,-699 1016,-699 1177,-699 1177,-699 1183,-699 1189,-705 1189,-711 1189,-711 1189,-770 1189,-770 1189,-776 1183,-782 1177,-782\"/>\n<text text-anchor=\"middle\" x=\"1096.5\" y=\"-766.8\" font-family=\"Helvetica,sans-Serif\" font-size=\"14.00\">Long &lt;= &#45;74.093</text>\n<text text-anchor=\"middle\" x=\"1096.5\" y=\"-751.8\" font-family=\"Helvetica,sans-Serif\" font-size=\"14.00\">gini = 0.443</text>\n<text text-anchor=\"middle\" x=\"1096.5\" y=\"-736.8\" font-family=\"Helvetica,sans-Serif\" font-size=\"14.00\">samples = 1020</text>\n<text text-anchor=\"middle\" x=\"1096.5\" y=\"-721.8\" font-family=\"Helvetica,sans-Serif\" font-size=\"14.00\">value = [729, 210, 63, 14, 4]</text>\n<text text-anchor=\"middle\" x=\"1096.5\" y=\"-706.8\" font-family=\"Helvetica,sans-Serif\" font-size=\"14.00\">class = 0</text>\n</g>\n<!-- 1 -->\n<g id=\"node2\" class=\"node\">\n<title>1</title>\n<path fill=\"#e99558\" stroke=\"black\" d=\"M1066,-663C1066,-663 943,-663 943,-663 937,-663 931,-657 931,-651 931,-651 931,-592 931,-592 931,-586 937,-580 943,-580 943,-580 1066,-580 1066,-580 1072,-580 1078,-586 1078,-592 1078,-592 1078,-651 1078,-651 1078,-657 1072,-663 1066,-663\"/>\n<text text-anchor=\"middle\" x=\"1004.5\" y=\"-647.8\" font-family=\"Helvetica,sans-Serif\" font-size=\"14.00\">Lat &lt;= 40.624</text>\n<text text-anchor=\"middle\" x=\"1004.5\" y=\"-632.8\" font-family=\"Helvetica,sans-Serif\" font-size=\"14.00\">gini = 0.257</text>\n<text text-anchor=\"middle\" x=\"1004.5\" y=\"-617.8\" font-family=\"Helvetica,sans-Serif\" font-size=\"14.00\">samples = 70</text>\n<text text-anchor=\"middle\" x=\"1004.5\" y=\"-602.8\" font-family=\"Helvetica,sans-Serif\" font-size=\"14.00\">value = [60, 6, 2, 1, 1]</text>\n<text text-anchor=\"middle\" x=\"1004.5\" y=\"-587.8\" font-family=\"Helvetica,sans-Serif\" font-size=\"14.00\">class = 0</text>\n</g>\n<!-- 0&#45;&gt;1 -->\n<g id=\"edge1\" class=\"edge\">\n<title>0&#45;&gt;1</title>\n<path fill=\"none\" stroke=\"black\" d=\"M1064.58,-698.91C1057.52,-689.92 1049.96,-680.32 1042.68,-671.05\"/>\n<polygon fill=\"black\" stroke=\"black\" points=\"1045.3,-668.72 1036.36,-663.02 1039.79,-673.05 1045.3,-668.72\"/>\n<text text-anchor=\"middle\" x=\"1033.39\" y=\"-684.14\" font-family=\"Helvetica,sans-Serif\" font-size=\"14.00\">True</text>\n</g>\n<!-- 22 -->\n<g id=\"node23\" class=\"node\">\n<title>22</title>\n<path fill=\"#efb084\" stroke=\"black\" d=\"M1419,-663C1419,-663 1258,-663 1258,-663 1252,-663 1246,-657 1246,-651 1246,-651 1246,-592 1246,-592 1246,-586 1252,-580 1258,-580 1258,-580 1419,-580 1419,-580 1425,-580 1431,-586 1431,-592 1431,-592 1431,-651 1431,-651 1431,-657 1425,-663 1419,-663\"/>\n<text text-anchor=\"middle\" x=\"1338.5\" y=\"-647.8\" font-family=\"Helvetica,sans-Serif\" font-size=\"14.00\">Long &lt;= &#45;74.088</text>\n<text text-anchor=\"middle\" x=\"1338.5\" y=\"-632.8\" font-family=\"Helvetica,sans-Serif\" font-size=\"14.00\">gini = 0.454</text>\n<text text-anchor=\"middle\" x=\"1338.5\" y=\"-617.8\" font-family=\"Helvetica,sans-Serif\" font-size=\"14.00\">samples = 950</text>\n<text text-anchor=\"middle\" x=\"1338.5\" y=\"-602.8\" font-family=\"Helvetica,sans-Serif\" font-size=\"14.00\">value = [669, 204, 61, 13, 3]</text>\n<text text-anchor=\"middle\" x=\"1338.5\" y=\"-587.8\" font-family=\"Helvetica,sans-Serif\" font-size=\"14.00\">class = 0</text>\n</g>\n<!-- 0&#45;&gt;22 -->\n<g id=\"edge22\" class=\"edge\">\n<title>0&#45;&gt;22</title>\n<path fill=\"none\" stroke=\"black\" d=\"M1180.46,-698.91C1201.48,-688.74 1224.16,-677.78 1245.59,-667.42\"/>\n<polygon fill=\"black\" stroke=\"black\" points=\"1247.21,-670.52 1254.69,-663.02 1244.16,-664.22 1247.21,-670.52\"/>\n<text text-anchor=\"middle\" x=\"1246.47\" y=\"-682.93\" font-family=\"Helvetica,sans-Serif\" font-size=\"14.00\">False</text>\n</g>\n<!-- 2 -->\n<g id=\"node3\" class=\"node\">\n<title>2</title>\n<path fill=\"#e99254\" stroke=\"black\" d=\"M692,-544C692,-544 569,-544 569,-544 563,-544 557,-538 557,-532 557,-532 557,-473 557,-473 557,-467 563,-461 569,-461 569,-461 692,-461 692,-461 698,-461 704,-467 704,-473 704,-473 704,-532 704,-532 704,-538 698,-544 692,-544\"/>\n<text text-anchor=\"middle\" x=\"630.5\" y=\"-528.8\" font-family=\"Helvetica,sans-Serif\" font-size=\"14.00\">Lat &lt;= 40.558</text>\n<text text-anchor=\"middle\" x=\"630.5\" y=\"-513.8\" font-family=\"Helvetica,sans-Serif\" font-size=\"14.00\">gini = 0.222</text>\n<text text-anchor=\"middle\" x=\"630.5\" y=\"-498.8\" font-family=\"Helvetica,sans-Serif\" font-size=\"14.00\">samples = 65</text>\n<text text-anchor=\"middle\" x=\"630.5\" y=\"-483.8\" font-family=\"Helvetica,sans-Serif\" font-size=\"14.00\">value = [57, 6, 1, 1, 0]</text>\n<text text-anchor=\"middle\" x=\"630.5\" y=\"-468.8\" font-family=\"Helvetica,sans-Serif\" font-size=\"14.00\">class = 0</text>\n</g>\n<!-- 1&#45;&gt;2 -->\n<g id=\"edge2\" class=\"edge\">\n<title>1&#45;&gt;2</title>\n<path fill=\"none\" stroke=\"black\" d=\"M930.61,-597.38C868.24,-577.87 778.99,-549.95 714.04,-529.63\"/>\n<polygon fill=\"black\" stroke=\"black\" points=\"714.83,-526.21 704.24,-526.57 712.74,-532.89 714.83,-526.21\"/>\n</g>\n<!-- 17 -->\n<g id=\"node18\" class=\"node\">\n<title>17</title>\n<path fill=\"#f2c09c\" stroke=\"black\" d=\"M1062.5,-544C1062.5,-544 946.5,-544 946.5,-544 940.5,-544 934.5,-538 934.5,-532 934.5,-532 934.5,-473 934.5,-473 934.5,-467 940.5,-461 946.5,-461 946.5,-461 1062.5,-461 1062.5,-461 1068.5,-461 1074.5,-467 1074.5,-473 1074.5,-473 1074.5,-532 1074.5,-532 1074.5,-538 1068.5,-544 1062.5,-544\"/>\n<text text-anchor=\"middle\" x=\"1004.5\" y=\"-528.8\" font-family=\"Helvetica,sans-Serif\" font-size=\"14.00\">Lat &lt;= 40.631</text>\n<text text-anchor=\"middle\" x=\"1004.5\" y=\"-513.8\" font-family=\"Helvetica,sans-Serif\" font-size=\"14.00\">gini = 0.56</text>\n<text text-anchor=\"middle\" x=\"1004.5\" y=\"-498.8\" font-family=\"Helvetica,sans-Serif\" font-size=\"14.00\">samples = 5</text>\n<text text-anchor=\"middle\" x=\"1004.5\" y=\"-483.8\" font-family=\"Helvetica,sans-Serif\" font-size=\"14.00\">value = [3, 0, 1, 0, 1]</text>\n<text text-anchor=\"middle\" x=\"1004.5\" y=\"-468.8\" font-family=\"Helvetica,sans-Serif\" font-size=\"14.00\">class = 0</text>\n</g>\n<!-- 1&#45;&gt;17 -->\n<g id=\"edge17\" class=\"edge\">\n<title>1&#45;&gt;17</title>\n<path fill=\"none\" stroke=\"black\" d=\"M1004.5,-579.91C1004.5,-571.65 1004.5,-562.86 1004.5,-554.3\"/>\n<polygon fill=\"black\" stroke=\"black\" points=\"1008,-554.02 1004.5,-544.02 1001,-554.02 1008,-554.02\"/>\n</g>\n<!-- 3 -->\n<g id=\"node4\" class=\"node\">\n<title>3</title>\n<path fill=\"#e68642\" stroke=\"black\" d=\"M297,-425C297,-425 174,-425 174,-425 168,-425 162,-419 162,-413 162,-413 162,-354 162,-354 162,-348 168,-342 174,-342 174,-342 297,-342 297,-342 303,-342 309,-348 309,-354 309,-354 309,-413 309,-413 309,-419 303,-425 297,-425\"/>\n<text text-anchor=\"middle\" x=\"235.5\" y=\"-409.8\" font-family=\"Helvetica,sans-Serif\" font-size=\"14.00\">Long &lt;= &#45;74.166</text>\n<text text-anchor=\"middle\" x=\"235.5\" y=\"-394.8\" font-family=\"Helvetica,sans-Serif\" font-size=\"14.00\">gini = 0.08</text>\n<text text-anchor=\"middle\" x=\"235.5\" y=\"-379.8\" font-family=\"Helvetica,sans-Serif\" font-size=\"14.00\">samples = 24</text>\n<text text-anchor=\"middle\" x=\"235.5\" y=\"-364.8\" font-family=\"Helvetica,sans-Serif\" font-size=\"14.00\">value = [23, 0, 1, 0, 0]</text>\n<text text-anchor=\"middle\" x=\"235.5\" y=\"-349.8\" font-family=\"Helvetica,sans-Serif\" font-size=\"14.00\">class = 0</text>\n</g>\n<!-- 2&#45;&gt;3 -->\n<g id=\"edge3\" class=\"edge\">\n<title>2&#45;&gt;3</title>\n<path fill=\"none\" stroke=\"black\" d=\"M556.67,-479.63C489.17,-459.64 389.42,-430.09 319.04,-409.24\"/>\n<polygon fill=\"black\" stroke=\"black\" points=\"319.89,-405.85 309.31,-406.36 317.9,-412.56 319.89,-405.85\"/>\n</g>\n<!-- 8 -->\n<g id=\"node9\" class=\"node\">\n<title>8</title>\n<path fill=\"#ea9a61\" stroke=\"black\" d=\"M692,-425C692,-425 569,-425 569,-425 563,-425 557,-419 557,-413 557,-413 557,-354 557,-354 557,-348 563,-342 569,-342 569,-342 692,-342 692,-342 698,-342 704,-348 704,-354 704,-354 704,-413 704,-413 704,-419 698,-425 692,-425\"/>\n<text text-anchor=\"middle\" x=\"630.5\" y=\"-409.8\" font-family=\"Helvetica,sans-Serif\" font-size=\"14.00\">Long &lt;= &#45;74.188</text>\n<text text-anchor=\"middle\" x=\"630.5\" y=\"-394.8\" font-family=\"Helvetica,sans-Serif\" font-size=\"14.00\">gini = 0.29</text>\n<text text-anchor=\"middle\" x=\"630.5\" y=\"-379.8\" font-family=\"Helvetica,sans-Serif\" font-size=\"14.00\">samples = 41</text>\n<text text-anchor=\"middle\" x=\"630.5\" y=\"-364.8\" font-family=\"Helvetica,sans-Serif\" font-size=\"14.00\">value = [34, 6, 0, 1, 0]</text>\n<text text-anchor=\"middle\" x=\"630.5\" y=\"-349.8\" font-family=\"Helvetica,sans-Serif\" font-size=\"14.00\">class = 0</text>\n</g>\n<!-- 2&#45;&gt;8 -->\n<g id=\"edge8\" class=\"edge\">\n<title>2&#45;&gt;8</title>\n<path fill=\"none\" stroke=\"black\" d=\"M630.5,-460.91C630.5,-452.65 630.5,-443.86 630.5,-435.3\"/>\n<polygon fill=\"black\" stroke=\"black\" points=\"634,-435.02 630.5,-425.02 627,-435.02 634,-435.02\"/>\n</g>\n<!-- 4 -->\n<g id=\"node5\" class=\"node\">\n<title>4</title>\n<path fill=\"#e58139\" stroke=\"black\" d=\"M135,-298.5C135,-298.5 12,-298.5 12,-298.5 6,-298.5 0,-292.5 0,-286.5 0,-286.5 0,-242.5 0,-242.5 0,-236.5 6,-230.5 12,-230.5 12,-230.5 135,-230.5 135,-230.5 141,-230.5 147,-236.5 147,-242.5 147,-242.5 147,-286.5 147,-286.5 147,-292.5 141,-298.5 135,-298.5\"/>\n<text text-anchor=\"middle\" x=\"73.5\" y=\"-283.3\" font-family=\"Helvetica,sans-Serif\" font-size=\"14.00\">gini = 0.0</text>\n<text text-anchor=\"middle\" x=\"73.5\" y=\"-268.3\" font-family=\"Helvetica,sans-Serif\" font-size=\"14.00\">samples = 15</text>\n<text text-anchor=\"middle\" x=\"73.5\" y=\"-253.3\" font-family=\"Helvetica,sans-Serif\" font-size=\"14.00\">value = [15, 0, 0, 0, 0]</text>\n<text text-anchor=\"middle\" x=\"73.5\" y=\"-238.3\" font-family=\"Helvetica,sans-Serif\" font-size=\"14.00\">class = 0</text>\n</g>\n<!-- 3&#45;&gt;4 -->\n<g id=\"edge4\" class=\"edge\">\n<title>3&#45;&gt;4</title>\n<path fill=\"none\" stroke=\"black\" d=\"M179.29,-341.91C162.64,-329.88 144.44,-316.73 127.9,-304.79\"/>\n<polygon fill=\"black\" stroke=\"black\" points=\"129.58,-301.68 119.42,-298.67 125.48,-307.36 129.58,-301.68\"/>\n</g>\n<!-- 5 -->\n<g id=\"node6\" class=\"node\">\n<title>5</title>\n<path fill=\"#e89152\" stroke=\"black\" d=\"M293.5,-306C293.5,-306 177.5,-306 177.5,-306 171.5,-306 165.5,-300 165.5,-294 165.5,-294 165.5,-235 165.5,-235 165.5,-229 171.5,-223 177.5,-223 177.5,-223 293.5,-223 293.5,-223 299.5,-223 305.5,-229 305.5,-235 305.5,-235 305.5,-294 305.5,-294 305.5,-300 299.5,-306 293.5,-306\"/>\n<text text-anchor=\"middle\" x=\"235.5\" y=\"-290.8\" font-family=\"Helvetica,sans-Serif\" font-size=\"14.00\">Long &lt;= &#45;74.162</text>\n<text text-anchor=\"middle\" x=\"235.5\" y=\"-275.8\" font-family=\"Helvetica,sans-Serif\" font-size=\"14.00\">gini = 0.198</text>\n<text text-anchor=\"middle\" x=\"235.5\" y=\"-260.8\" font-family=\"Helvetica,sans-Serif\" font-size=\"14.00\">samples = 9</text>\n<text text-anchor=\"middle\" x=\"235.5\" y=\"-245.8\" font-family=\"Helvetica,sans-Serif\" font-size=\"14.00\">value = [8, 0, 1, 0, 0]</text>\n<text text-anchor=\"middle\" x=\"235.5\" y=\"-230.8\" font-family=\"Helvetica,sans-Serif\" font-size=\"14.00\">class = 0</text>\n</g>\n<!-- 3&#45;&gt;5 -->\n<g id=\"edge5\" class=\"edge\">\n<title>3&#45;&gt;5</title>\n<path fill=\"none\" stroke=\"black\" d=\"M235.5,-341.91C235.5,-333.65 235.5,-324.86 235.5,-316.3\"/>\n<polygon fill=\"black\" stroke=\"black\" points=\"239,-316.02 235.5,-306.02 232,-316.02 239,-316.02\"/>\n</g>\n<!-- 6 -->\n<g id=\"node7\" class=\"node\">\n<title>6</title>\n<path fill=\"#ffffff\" stroke=\"black\" d=\"M135.5,-179.5C135.5,-179.5 19.5,-179.5 19.5,-179.5 13.5,-179.5 7.5,-173.5 7.5,-167.5 7.5,-167.5 7.5,-123.5 7.5,-123.5 7.5,-117.5 13.5,-111.5 19.5,-111.5 19.5,-111.5 135.5,-111.5 135.5,-111.5 141.5,-111.5 147.5,-117.5 147.5,-123.5 147.5,-123.5 147.5,-167.5 147.5,-167.5 147.5,-173.5 141.5,-179.5 135.5,-179.5\"/>\n<text text-anchor=\"middle\" x=\"77.5\" y=\"-164.3\" font-family=\"Helvetica,sans-Serif\" font-size=\"14.00\">gini = 0.5</text>\n<text text-anchor=\"middle\" x=\"77.5\" y=\"-149.3\" font-family=\"Helvetica,sans-Serif\" font-size=\"14.00\">samples = 2</text>\n<text text-anchor=\"middle\" x=\"77.5\" y=\"-134.3\" font-family=\"Helvetica,sans-Serif\" font-size=\"14.00\">value = [1, 0, 1, 0, 0]</text>\n<text text-anchor=\"middle\" x=\"77.5\" y=\"-119.3\" font-family=\"Helvetica,sans-Serif\" font-size=\"14.00\">class = 0</text>\n</g>\n<!-- 5&#45;&gt;6 -->\n<g id=\"edge6\" class=\"edge\">\n<title>5&#45;&gt;6</title>\n<path fill=\"none\" stroke=\"black\" d=\"M180.68,-222.91C164.44,-210.88 146.69,-197.73 130.56,-185.79\"/>\n<polygon fill=\"black\" stroke=\"black\" points=\"132.41,-182.81 122.29,-179.67 128.24,-188.43 132.41,-182.81\"/>\n</g>\n<!-- 7 -->\n<g id=\"node8\" class=\"node\">\n<title>7</title>\n<path fill=\"#e58139\" stroke=\"black\" d=\"M293.5,-179.5C293.5,-179.5 177.5,-179.5 177.5,-179.5 171.5,-179.5 165.5,-173.5 165.5,-167.5 165.5,-167.5 165.5,-123.5 165.5,-123.5 165.5,-117.5 171.5,-111.5 177.5,-111.5 177.5,-111.5 293.5,-111.5 293.5,-111.5 299.5,-111.5 305.5,-117.5 305.5,-123.5 305.5,-123.5 305.5,-167.5 305.5,-167.5 305.5,-173.5 299.5,-179.5 293.5,-179.5\"/>\n<text text-anchor=\"middle\" x=\"235.5\" y=\"-164.3\" font-family=\"Helvetica,sans-Serif\" font-size=\"14.00\">gini = 0.0</text>\n<text text-anchor=\"middle\" x=\"235.5\" y=\"-149.3\" font-family=\"Helvetica,sans-Serif\" font-size=\"14.00\">samples = 7</text>\n<text text-anchor=\"middle\" x=\"235.5\" y=\"-134.3\" font-family=\"Helvetica,sans-Serif\" font-size=\"14.00\">value = [7, 0, 0, 0, 0]</text>\n<text text-anchor=\"middle\" x=\"235.5\" y=\"-119.3\" font-family=\"Helvetica,sans-Serif\" font-size=\"14.00\">class = 0</text>\n</g>\n<!-- 5&#45;&gt;7 -->\n<g id=\"edge7\" class=\"edge\">\n<title>5&#45;&gt;7</title>\n<path fill=\"none\" stroke=\"black\" d=\"M235.5,-222.91C235.5,-212.2 235.5,-200.62 235.5,-189.78\"/>\n<polygon fill=\"black\" stroke=\"black\" points=\"239,-189.67 235.5,-179.67 232,-189.67 239,-189.67\"/>\n</g>\n<!-- 9 -->\n<g id=\"node10\" class=\"node\">\n<title>9</title>\n<path fill=\"#ffffff\" stroke=\"black\" d=\"M607.5,-306C607.5,-306 491.5,-306 491.5,-306 485.5,-306 479.5,-300 479.5,-294 479.5,-294 479.5,-235 479.5,-235 479.5,-229 485.5,-223 491.5,-223 491.5,-223 607.5,-223 607.5,-223 613.5,-223 619.5,-229 619.5,-235 619.5,-235 619.5,-294 619.5,-294 619.5,-300 613.5,-306 607.5,-306\"/>\n<text text-anchor=\"middle\" x=\"549.5\" y=\"-290.8\" font-family=\"Helvetica,sans-Serif\" font-size=\"14.00\">Long &lt;= &#45;74.193</text>\n<text text-anchor=\"middle\" x=\"549.5\" y=\"-275.8\" font-family=\"Helvetica,sans-Serif\" font-size=\"14.00\">gini = 0.64</text>\n<text text-anchor=\"middle\" x=\"549.5\" y=\"-260.8\" font-family=\"Helvetica,sans-Serif\" font-size=\"14.00\">samples = 5</text>\n<text text-anchor=\"middle\" x=\"549.5\" y=\"-245.8\" font-family=\"Helvetica,sans-Serif\" font-size=\"14.00\">value = [2, 2, 0, 1, 0]</text>\n<text text-anchor=\"middle\" x=\"549.5\" y=\"-230.8\" font-family=\"Helvetica,sans-Serif\" font-size=\"14.00\">class = 0</text>\n</g>\n<!-- 8&#45;&gt;9 -->\n<g id=\"edge9\" class=\"edge\">\n<title>8&#45;&gt;9</title>\n<path fill=\"none\" stroke=\"black\" d=\"M602.4,-341.91C596.24,-333.01 589.66,-323.51 583.31,-314.33\"/>\n<polygon fill=\"black\" stroke=\"black\" points=\"586.12,-312.25 577.55,-306.02 580.37,-316.24 586.12,-312.25\"/>\n</g>\n<!-- 12 -->\n<g id=\"node13\" class=\"node\">\n<title>12</title>\n<path fill=\"#e89152\" stroke=\"black\" d=\"M773,-306C773,-306 650,-306 650,-306 644,-306 638,-300 638,-294 638,-294 638,-235 638,-235 638,-229 644,-223 650,-223 650,-223 773,-223 773,-223 779,-223 785,-229 785,-235 785,-235 785,-294 785,-294 785,-300 779,-306 773,-306\"/>\n<text text-anchor=\"middle\" x=\"711.5\" y=\"-290.8\" font-family=\"Helvetica,sans-Serif\" font-size=\"14.00\">Lat &lt;= 40.56</text>\n<text text-anchor=\"middle\" x=\"711.5\" y=\"-275.8\" font-family=\"Helvetica,sans-Serif\" font-size=\"14.00\">gini = 0.198</text>\n<text text-anchor=\"middle\" x=\"711.5\" y=\"-260.8\" font-family=\"Helvetica,sans-Serif\" font-size=\"14.00\">samples = 36</text>\n<text text-anchor=\"middle\" x=\"711.5\" y=\"-245.8\" font-family=\"Helvetica,sans-Serif\" font-size=\"14.00\">value = [32, 4, 0, 0, 0]</text>\n<text text-anchor=\"middle\" x=\"711.5\" y=\"-230.8\" font-family=\"Helvetica,sans-Serif\" font-size=\"14.00\">class = 0</text>\n</g>\n<!-- 8&#45;&gt;12 -->\n<g id=\"edge12\" class=\"edge\">\n<title>8&#45;&gt;12</title>\n<path fill=\"none\" stroke=\"black\" d=\"M658.6,-341.91C664.76,-333.01 671.34,-323.51 677.69,-314.33\"/>\n<polygon fill=\"black\" stroke=\"black\" points=\"680.63,-316.24 683.45,-306.02 674.88,-312.25 680.63,-316.24\"/>\n</g>\n<!-- 10 -->\n<g id=\"node11\" class=\"node\">\n<title>10</title>\n<path fill=\"#ffffff\" stroke=\"black\" d=\"M451.5,-179.5C451.5,-179.5 335.5,-179.5 335.5,-179.5 329.5,-179.5 323.5,-173.5 323.5,-167.5 323.5,-167.5 323.5,-123.5 323.5,-123.5 323.5,-117.5 329.5,-111.5 335.5,-111.5 335.5,-111.5 451.5,-111.5 451.5,-111.5 457.5,-111.5 463.5,-117.5 463.5,-123.5 463.5,-123.5 463.5,-167.5 463.5,-167.5 463.5,-173.5 457.5,-179.5 451.5,-179.5\"/>\n<text text-anchor=\"middle\" x=\"393.5\" y=\"-164.3\" font-family=\"Helvetica,sans-Serif\" font-size=\"14.00\">gini = 0.5</text>\n<text text-anchor=\"middle\" x=\"393.5\" y=\"-149.3\" font-family=\"Helvetica,sans-Serif\" font-size=\"14.00\">samples = 2</text>\n<text text-anchor=\"middle\" x=\"393.5\" y=\"-134.3\" font-family=\"Helvetica,sans-Serif\" font-size=\"14.00\">value = [1, 1, 0, 0, 0]</text>\n<text text-anchor=\"middle\" x=\"393.5\" y=\"-119.3\" font-family=\"Helvetica,sans-Serif\" font-size=\"14.00\">class = 0</text>\n</g>\n<!-- 9&#45;&gt;10 -->\n<g id=\"edge10\" class=\"edge\">\n<title>9&#45;&gt;10</title>\n<path fill=\"none\" stroke=\"black\" d=\"M495.38,-222.91C479.34,-210.88 461.81,-197.73 445.89,-185.79\"/>\n<polygon fill=\"black\" stroke=\"black\" points=\"447.82,-182.87 437.72,-179.67 443.62,-188.47 447.82,-182.87\"/>\n</g>\n<!-- 11 -->\n<g id=\"node12\" class=\"node\">\n<title>11</title>\n<path fill=\"#ffffff\" stroke=\"black\" d=\"M609.5,-179.5C609.5,-179.5 493.5,-179.5 493.5,-179.5 487.5,-179.5 481.5,-173.5 481.5,-167.5 481.5,-167.5 481.5,-123.5 481.5,-123.5 481.5,-117.5 487.5,-111.5 493.5,-111.5 493.5,-111.5 609.5,-111.5 609.5,-111.5 615.5,-111.5 621.5,-117.5 621.5,-123.5 621.5,-123.5 621.5,-167.5 621.5,-167.5 621.5,-173.5 615.5,-179.5 609.5,-179.5\"/>\n<text text-anchor=\"middle\" x=\"551.5\" y=\"-164.3\" font-family=\"Helvetica,sans-Serif\" font-size=\"14.00\">gini = 0.667</text>\n<text text-anchor=\"middle\" x=\"551.5\" y=\"-149.3\" font-family=\"Helvetica,sans-Serif\" font-size=\"14.00\">samples = 3</text>\n<text text-anchor=\"middle\" x=\"551.5\" y=\"-134.3\" font-family=\"Helvetica,sans-Serif\" font-size=\"14.00\">value = [1, 1, 0, 1, 0]</text>\n<text text-anchor=\"middle\" x=\"551.5\" y=\"-119.3\" font-family=\"Helvetica,sans-Serif\" font-size=\"14.00\">class = 0</text>\n</g>\n<!-- 9&#45;&gt;11 -->\n<g id=\"edge11\" class=\"edge\">\n<title>9&#45;&gt;11</title>\n<path fill=\"none\" stroke=\"black\" d=\"M550.19,-222.91C550.38,-212.2 550.57,-200.62 550.76,-189.78\"/>\n<polygon fill=\"black\" stroke=\"black\" points=\"554.26,-189.73 550.93,-179.67 547.26,-189.61 554.26,-189.73\"/>\n</g>\n<!-- 13 -->\n<g id=\"node14\" class=\"node\">\n<title>13</title>\n<path fill=\"#7be539\" stroke=\"black\" d=\"M767.5,-179.5C767.5,-179.5 651.5,-179.5 651.5,-179.5 645.5,-179.5 639.5,-173.5 639.5,-167.5 639.5,-167.5 639.5,-123.5 639.5,-123.5 639.5,-117.5 645.5,-111.5 651.5,-111.5 651.5,-111.5 767.5,-111.5 767.5,-111.5 773.5,-111.5 779.5,-117.5 779.5,-123.5 779.5,-123.5 779.5,-167.5 779.5,-167.5 779.5,-173.5 773.5,-179.5 767.5,-179.5\"/>\n<text text-anchor=\"middle\" x=\"709.5\" y=\"-164.3\" font-family=\"Helvetica,sans-Serif\" font-size=\"14.00\">gini = 0.0</text>\n<text text-anchor=\"middle\" x=\"709.5\" y=\"-149.3\" font-family=\"Helvetica,sans-Serif\" font-size=\"14.00\">samples = 1</text>\n<text text-anchor=\"middle\" x=\"709.5\" y=\"-134.3\" font-family=\"Helvetica,sans-Serif\" font-size=\"14.00\">value = [0, 1, 0, 0, 0]</text>\n<text text-anchor=\"middle\" x=\"709.5\" y=\"-119.3\" font-family=\"Helvetica,sans-Serif\" font-size=\"14.00\">class = 1</text>\n</g>\n<!-- 12&#45;&gt;13 -->\n<g id=\"edge13\" class=\"edge\">\n<title>12&#45;&gt;13</title>\n<path fill=\"none\" stroke=\"black\" d=\"M710.81,-222.91C710.62,-212.2 710.43,-200.62 710.24,-189.78\"/>\n<polygon fill=\"black\" stroke=\"black\" points=\"713.74,-189.61 710.07,-179.67 706.74,-189.73 713.74,-189.61\"/>\n</g>\n<!-- 14 -->\n<g id=\"node15\" class=\"node\">\n<title>14</title>\n<path fill=\"#e78d4c\" stroke=\"black\" d=\"M933,-187C933,-187 810,-187 810,-187 804,-187 798,-181 798,-175 798,-175 798,-116 798,-116 798,-110 804,-104 810,-104 810,-104 933,-104 933,-104 939,-104 945,-110 945,-116 945,-116 945,-175 945,-175 945,-181 939,-187 933,-187\"/>\n<text text-anchor=\"middle\" x=\"871.5\" y=\"-171.8\" font-family=\"Helvetica,sans-Serif\" font-size=\"14.00\">Long &lt;= &#45;74.163</text>\n<text text-anchor=\"middle\" x=\"871.5\" y=\"-156.8\" font-family=\"Helvetica,sans-Serif\" font-size=\"14.00\">gini = 0.157</text>\n<text text-anchor=\"middle\" x=\"871.5\" y=\"-141.8\" font-family=\"Helvetica,sans-Serif\" font-size=\"14.00\">samples = 35</text>\n<text text-anchor=\"middle\" x=\"871.5\" y=\"-126.8\" font-family=\"Helvetica,sans-Serif\" font-size=\"14.00\">value = [32, 3, 0, 0, 0]</text>\n<text text-anchor=\"middle\" x=\"871.5\" y=\"-111.8\" font-family=\"Helvetica,sans-Serif\" font-size=\"14.00\">class = 0</text>\n</g>\n<!-- 12&#45;&gt;14 -->\n<g id=\"edge14\" class=\"edge\">\n<title>12&#45;&gt;14</title>\n<path fill=\"none\" stroke=\"black\" d=\"M767.01,-222.91C780.17,-213.29 794.3,-202.95 807.79,-193.09\"/>\n<polygon fill=\"black\" stroke=\"black\" points=\"810.08,-195.75 816.09,-187.02 805.95,-190.1 810.08,-195.75\"/>\n</g>\n<!-- 15 -->\n<g id=\"node16\" class=\"node\">\n<title>15</title>\n<path fill=\"#eca572\" stroke=\"black\" d=\"M767.5,-68C767.5,-68 651.5,-68 651.5,-68 645.5,-68 639.5,-62 639.5,-56 639.5,-56 639.5,-12 639.5,-12 639.5,-6 645.5,0 651.5,0 651.5,0 767.5,0 767.5,0 773.5,0 779.5,-6 779.5,-12 779.5,-12 779.5,-56 779.5,-56 779.5,-62 773.5,-68 767.5,-68\"/>\n<text text-anchor=\"middle\" x=\"709.5\" y=\"-52.8\" font-family=\"Helvetica,sans-Serif\" font-size=\"14.00\">gini = 0.346</text>\n<text text-anchor=\"middle\" x=\"709.5\" y=\"-37.8\" font-family=\"Helvetica,sans-Serif\" font-size=\"14.00\">samples = 9</text>\n<text text-anchor=\"middle\" x=\"709.5\" y=\"-22.8\" font-family=\"Helvetica,sans-Serif\" font-size=\"14.00\">value = [7, 2, 0, 0, 0]</text>\n<text text-anchor=\"middle\" x=\"709.5\" y=\"-7.8\" font-family=\"Helvetica,sans-Serif\" font-size=\"14.00\">class = 0</text>\n</g>\n<!-- 14&#45;&gt;15 -->\n<g id=\"edge15\" class=\"edge\">\n<title>14&#45;&gt;15</title>\n<path fill=\"none\" stroke=\"black\" d=\"M811.18,-103.73C796.66,-93.92 781.2,-83.46 766.83,-73.75\"/>\n<polygon fill=\"black\" stroke=\"black\" points=\"768.75,-70.83 758.51,-68.13 764.83,-76.62 768.75,-70.83\"/>\n</g>\n<!-- 16 -->\n<g id=\"node17\" class=\"node\">\n<title>16</title>\n<path fill=\"#e68641\" stroke=\"black\" d=\"M933,-68C933,-68 810,-68 810,-68 804,-68 798,-62 798,-56 798,-56 798,-12 798,-12 798,-6 804,0 810,0 810,0 933,0 933,0 939,0 945,-6 945,-12 945,-12 945,-56 945,-56 945,-62 939,-68 933,-68\"/>\n<text text-anchor=\"middle\" x=\"871.5\" y=\"-52.8\" font-family=\"Helvetica,sans-Serif\" font-size=\"14.00\">gini = 0.074</text>\n<text text-anchor=\"middle\" x=\"871.5\" y=\"-37.8\" font-family=\"Helvetica,sans-Serif\" font-size=\"14.00\">samples = 26</text>\n<text text-anchor=\"middle\" x=\"871.5\" y=\"-22.8\" font-family=\"Helvetica,sans-Serif\" font-size=\"14.00\">value = [25, 1, 0, 0, 0]</text>\n<text text-anchor=\"middle\" x=\"871.5\" y=\"-7.8\" font-family=\"Helvetica,sans-Serif\" font-size=\"14.00\">class = 0</text>\n</g>\n<!-- 14&#45;&gt;16 -->\n<g id=\"edge16\" class=\"edge\">\n<title>14&#45;&gt;16</title>\n<path fill=\"none\" stroke=\"black\" d=\"M871.5,-103.73C871.5,-95.52 871.5,-86.86 871.5,-78.56\"/>\n<polygon fill=\"black\" stroke=\"black\" points=\"875,-78.3 871.5,-68.3 868,-78.3 875,-78.3\"/>\n</g>\n<!-- 18 -->\n<g id=\"node19\" class=\"node\">\n<title>18</title>\n<path fill=\"#ffffff\" stroke=\"black\" d=\"M1024.5,-425C1024.5,-425 908.5,-425 908.5,-425 902.5,-425 896.5,-419 896.5,-413 896.5,-413 896.5,-354 896.5,-354 896.5,-348 902.5,-342 908.5,-342 908.5,-342 1024.5,-342 1024.5,-342 1030.5,-342 1036.5,-348 1036.5,-354 1036.5,-354 1036.5,-413 1036.5,-413 1036.5,-419 1030.5,-425 1024.5,-425\"/>\n<text text-anchor=\"middle\" x=\"966.5\" y=\"-409.8\" font-family=\"Helvetica,sans-Serif\" font-size=\"14.00\">Lat &lt;= 40.625</text>\n<text text-anchor=\"middle\" x=\"966.5\" y=\"-394.8\" font-family=\"Helvetica,sans-Serif\" font-size=\"14.00\">gini = 0.5</text>\n<text text-anchor=\"middle\" x=\"966.5\" y=\"-379.8\" font-family=\"Helvetica,sans-Serif\" font-size=\"14.00\">samples = 2</text>\n<text text-anchor=\"middle\" x=\"966.5\" y=\"-364.8\" font-family=\"Helvetica,sans-Serif\" font-size=\"14.00\">value = [0, 0, 1, 0, 1]</text>\n<text text-anchor=\"middle\" x=\"966.5\" y=\"-349.8\" font-family=\"Helvetica,sans-Serif\" font-size=\"14.00\">class = 2</text>\n</g>\n<!-- 17&#45;&gt;18 -->\n<g id=\"edge18\" class=\"edge\">\n<title>17&#45;&gt;18</title>\n<path fill=\"none\" stroke=\"black\" d=\"M991.32,-460.91C988.57,-452.47 985.66,-443.48 982.82,-434.74\"/>\n<polygon fill=\"black\" stroke=\"black\" points=\"986.08,-433.45 979.66,-425.02 979.42,-435.61 986.08,-433.45\"/>\n</g>\n<!-- 21 -->\n<g id=\"node22\" class=\"node\">\n<title>21</title>\n<path fill=\"#e58139\" stroke=\"black\" d=\"M1182.5,-417.5C1182.5,-417.5 1066.5,-417.5 1066.5,-417.5 1060.5,-417.5 1054.5,-411.5 1054.5,-405.5 1054.5,-405.5 1054.5,-361.5 1054.5,-361.5 1054.5,-355.5 1060.5,-349.5 1066.5,-349.5 1066.5,-349.5 1182.5,-349.5 1182.5,-349.5 1188.5,-349.5 1194.5,-355.5 1194.5,-361.5 1194.5,-361.5 1194.5,-405.5 1194.5,-405.5 1194.5,-411.5 1188.5,-417.5 1182.5,-417.5\"/>\n<text text-anchor=\"middle\" x=\"1124.5\" y=\"-402.3\" font-family=\"Helvetica,sans-Serif\" font-size=\"14.00\">gini = 0.0</text>\n<text text-anchor=\"middle\" x=\"1124.5\" y=\"-387.3\" font-family=\"Helvetica,sans-Serif\" font-size=\"14.00\">samples = 3</text>\n<text text-anchor=\"middle\" x=\"1124.5\" y=\"-372.3\" font-family=\"Helvetica,sans-Serif\" font-size=\"14.00\">value = [3, 0, 0, 0, 0]</text>\n<text text-anchor=\"middle\" x=\"1124.5\" y=\"-357.3\" font-family=\"Helvetica,sans-Serif\" font-size=\"14.00\">class = 0</text>\n</g>\n<!-- 17&#45;&gt;21 -->\n<g id=\"edge21\" class=\"edge\">\n<title>17&#45;&gt;21</title>\n<path fill=\"none\" stroke=\"black\" d=\"M1046.13,-460.91C1058.13,-449.21 1071.21,-436.46 1083.19,-424.78\"/>\n<polygon fill=\"black\" stroke=\"black\" points=\"1085.77,-427.15 1090.48,-417.67 1080.88,-422.14 1085.77,-427.15\"/>\n</g>\n<!-- 19 -->\n<g id=\"node20\" class=\"node\">\n<title>19</title>\n<path fill=\"#39e5c5\" stroke=\"black\" d=\"M1006.5,-298.5C1006.5,-298.5 890.5,-298.5 890.5,-298.5 884.5,-298.5 878.5,-292.5 878.5,-286.5 878.5,-286.5 878.5,-242.5 878.5,-242.5 878.5,-236.5 884.5,-230.5 890.5,-230.5 890.5,-230.5 1006.5,-230.5 1006.5,-230.5 1012.5,-230.5 1018.5,-236.5 1018.5,-242.5 1018.5,-242.5 1018.5,-286.5 1018.5,-286.5 1018.5,-292.5 1012.5,-298.5 1006.5,-298.5\"/>\n<text text-anchor=\"middle\" x=\"948.5\" y=\"-283.3\" font-family=\"Helvetica,sans-Serif\" font-size=\"14.00\">gini = 0.0</text>\n<text text-anchor=\"middle\" x=\"948.5\" y=\"-268.3\" font-family=\"Helvetica,sans-Serif\" font-size=\"14.00\">samples = 1</text>\n<text text-anchor=\"middle\" x=\"948.5\" y=\"-253.3\" font-family=\"Helvetica,sans-Serif\" font-size=\"14.00\">value = [0, 0, 1, 0, 0]</text>\n<text text-anchor=\"middle\" x=\"948.5\" y=\"-238.3\" font-family=\"Helvetica,sans-Serif\" font-size=\"14.00\">class = 2</text>\n</g>\n<!-- 18&#45;&gt;19 -->\n<g id=\"edge19\" class=\"edge\">\n<title>18&#45;&gt;19</title>\n<path fill=\"none\" stroke=\"black\" d=\"M960.25,-341.91C958.61,-331.2 956.83,-319.62 955.16,-308.78\"/>\n<polygon fill=\"black\" stroke=\"black\" points=\"958.58,-308.02 953.6,-298.67 951.66,-309.08 958.58,-308.02\"/>\n</g>\n<!-- 20 -->\n<g id=\"node21\" class=\"node\">\n<title>20</title>\n<path fill=\"#e539c0\" stroke=\"black\" d=\"M1164.5,-298.5C1164.5,-298.5 1048.5,-298.5 1048.5,-298.5 1042.5,-298.5 1036.5,-292.5 1036.5,-286.5 1036.5,-286.5 1036.5,-242.5 1036.5,-242.5 1036.5,-236.5 1042.5,-230.5 1048.5,-230.5 1048.5,-230.5 1164.5,-230.5 1164.5,-230.5 1170.5,-230.5 1176.5,-236.5 1176.5,-242.5 1176.5,-242.5 1176.5,-286.5 1176.5,-286.5 1176.5,-292.5 1170.5,-298.5 1164.5,-298.5\"/>\n<text text-anchor=\"middle\" x=\"1106.5\" y=\"-283.3\" font-family=\"Helvetica,sans-Serif\" font-size=\"14.00\">gini = 0.0</text>\n<text text-anchor=\"middle\" x=\"1106.5\" y=\"-268.3\" font-family=\"Helvetica,sans-Serif\" font-size=\"14.00\">samples = 1</text>\n<text text-anchor=\"middle\" x=\"1106.5\" y=\"-253.3\" font-family=\"Helvetica,sans-Serif\" font-size=\"14.00\">value = [0, 0, 0, 0, 1]</text>\n<text text-anchor=\"middle\" x=\"1106.5\" y=\"-238.3\" font-family=\"Helvetica,sans-Serif\" font-size=\"14.00\">class = 4</text>\n</g>\n<!-- 18&#45;&gt;20 -->\n<g id=\"edge20\" class=\"edge\">\n<title>18&#45;&gt;20</title>\n<path fill=\"none\" stroke=\"black\" d=\"M1015.07,-341.91C1029.33,-329.99 1044.91,-316.98 1059.09,-305.12\"/>\n<polygon fill=\"black\" stroke=\"black\" points=\"1061.38,-307.77 1066.81,-298.67 1056.9,-302.39 1061.38,-307.77\"/>\n</g>\n<!-- 23 -->\n<g id=\"node24\" class=\"node\">\n<title>23</title>\n<path fill=\"#7be539\" stroke=\"black\" d=\"M1396.5,-536.5C1396.5,-536.5 1280.5,-536.5 1280.5,-536.5 1274.5,-536.5 1268.5,-530.5 1268.5,-524.5 1268.5,-524.5 1268.5,-480.5 1268.5,-480.5 1268.5,-474.5 1274.5,-468.5 1280.5,-468.5 1280.5,-468.5 1396.5,-468.5 1396.5,-468.5 1402.5,-468.5 1408.5,-474.5 1408.5,-480.5 1408.5,-480.5 1408.5,-524.5 1408.5,-524.5 1408.5,-530.5 1402.5,-536.5 1396.5,-536.5\"/>\n<text text-anchor=\"middle\" x=\"1338.5\" y=\"-521.3\" font-family=\"Helvetica,sans-Serif\" font-size=\"14.00\">gini = 0.0</text>\n<text text-anchor=\"middle\" x=\"1338.5\" y=\"-506.3\" font-family=\"Helvetica,sans-Serif\" font-size=\"14.00\">samples = 2</text>\n<text text-anchor=\"middle\" x=\"1338.5\" y=\"-491.3\" font-family=\"Helvetica,sans-Serif\" font-size=\"14.00\">value = [0, 2, 0, 0, 0]</text>\n<text text-anchor=\"middle\" x=\"1338.5\" y=\"-476.3\" font-family=\"Helvetica,sans-Serif\" font-size=\"14.00\">class = 1</text>\n</g>\n<!-- 22&#45;&gt;23 -->\n<g id=\"edge23\" class=\"edge\">\n<title>22&#45;&gt;23</title>\n<path fill=\"none\" stroke=\"black\" d=\"M1338.5,-579.91C1338.5,-569.2 1338.5,-557.62 1338.5,-546.78\"/>\n<polygon fill=\"black\" stroke=\"black\" points=\"1342,-546.67 1338.5,-536.67 1335,-546.67 1342,-546.67\"/>\n</g>\n<!-- 24 -->\n<g id=\"node25\" class=\"node\">\n<title>24</title>\n<path fill=\"#efb083\" stroke=\"black\" d=\"M1676,-544C1676,-544 1515,-544 1515,-544 1509,-544 1503,-538 1503,-532 1503,-532 1503,-473 1503,-473 1503,-467 1509,-461 1515,-461 1515,-461 1676,-461 1676,-461 1682,-461 1688,-467 1688,-473 1688,-473 1688,-532 1688,-532 1688,-538 1682,-544 1676,-544\"/>\n<text text-anchor=\"middle\" x=\"1595.5\" y=\"-528.8\" font-family=\"Helvetica,sans-Serif\" font-size=\"14.00\">Long &lt;= &#45;73.908</text>\n<text text-anchor=\"middle\" x=\"1595.5\" y=\"-513.8\" font-family=\"Helvetica,sans-Serif\" font-size=\"14.00\">gini = 0.452</text>\n<text text-anchor=\"middle\" x=\"1595.5\" y=\"-498.8\" font-family=\"Helvetica,sans-Serif\" font-size=\"14.00\">samples = 948</text>\n<text text-anchor=\"middle\" x=\"1595.5\" y=\"-483.8\" font-family=\"Helvetica,sans-Serif\" font-size=\"14.00\">value = [669, 202, 61, 13, 3]</text>\n<text text-anchor=\"middle\" x=\"1595.5\" y=\"-468.8\" font-family=\"Helvetica,sans-Serif\" font-size=\"14.00\">class = 0</text>\n</g>\n<!-- 22&#45;&gt;24 -->\n<g id=\"edge24\" class=\"edge\">\n<title>22&#45;&gt;24</title>\n<path fill=\"none\" stroke=\"black\" d=\"M1427.66,-579.91C1450.09,-569.7 1474.29,-558.68 1497.13,-548.28\"/>\n<polygon fill=\"black\" stroke=\"black\" points=\"1498.84,-551.35 1506.49,-544.02 1495.94,-544.98 1498.84,-551.35\"/>\n</g>\n<!-- 25 -->\n<g id=\"node26\" class=\"node\">\n<title>25</title>\n<path fill=\"#eead7e\" stroke=\"black\" d=\"M1676,-425C1676,-425 1515,-425 1515,-425 1509,-425 1503,-419 1503,-413 1503,-413 1503,-354 1503,-354 1503,-348 1509,-342 1515,-342 1515,-342 1676,-342 1676,-342 1682,-342 1688,-348 1688,-354 1688,-354 1688,-413 1688,-413 1688,-419 1682,-425 1676,-425\"/>\n<text text-anchor=\"middle\" x=\"1595.5\" y=\"-409.8\" font-family=\"Helvetica,sans-Serif\" font-size=\"14.00\">Lat &lt;= 40.729</text>\n<text text-anchor=\"middle\" x=\"1595.5\" y=\"-394.8\" font-family=\"Helvetica,sans-Serif\" font-size=\"14.00\">gini = 0.433</text>\n<text text-anchor=\"middle\" x=\"1595.5\" y=\"-379.8\" font-family=\"Helvetica,sans-Serif\" font-size=\"14.00\">samples = 743</text>\n<text text-anchor=\"middle\" x=\"1595.5\" y=\"-364.8\" font-family=\"Helvetica,sans-Serif\" font-size=\"14.00\">value = [537, 150, 44, 10, 2]</text>\n<text text-anchor=\"middle\" x=\"1595.5\" y=\"-349.8\" font-family=\"Helvetica,sans-Serif\" font-size=\"14.00\">class = 0</text>\n</g>\n<!-- 24&#45;&gt;25 -->\n<g id=\"edge25\" class=\"edge\">\n<title>24&#45;&gt;25</title>\n<path fill=\"none\" stroke=\"black\" d=\"M1595.5,-460.91C1595.5,-452.65 1595.5,-443.86 1595.5,-435.3\"/>\n<polygon fill=\"black\" stroke=\"black\" points=\"1599,-435.02 1595.5,-425.02 1592,-435.02 1599,-435.02\"/>\n</g>\n<!-- 40 -->\n<g id=\"node41\" class=\"node\">\n<title>40</title>\n<path fill=\"#f1bd97\" stroke=\"black\" d=\"M2712.5,-425C2712.5,-425 2566.5,-425 2566.5,-425 2560.5,-425 2554.5,-419 2554.5,-413 2554.5,-413 2554.5,-354 2554.5,-354 2554.5,-348 2560.5,-342 2566.5,-342 2566.5,-342 2712.5,-342 2712.5,-342 2718.5,-342 2724.5,-348 2724.5,-354 2724.5,-354 2724.5,-413 2724.5,-413 2724.5,-419 2718.5,-425 2712.5,-425\"/>\n<text text-anchor=\"middle\" x=\"2639.5\" y=\"-409.8\" font-family=\"Helvetica,sans-Serif\" font-size=\"14.00\">Long &lt;= &#45;73.852</text>\n<text text-anchor=\"middle\" x=\"2639.5\" y=\"-394.8\" font-family=\"Helvetica,sans-Serif\" font-size=\"14.00\">gini = 0.514</text>\n<text text-anchor=\"middle\" x=\"2639.5\" y=\"-379.8\" font-family=\"Helvetica,sans-Serif\" font-size=\"14.00\">samples = 205</text>\n<text text-anchor=\"middle\" x=\"2639.5\" y=\"-364.8\" font-family=\"Helvetica,sans-Serif\" font-size=\"14.00\">value = [132, 52, 17, 3, 1]</text>\n<text text-anchor=\"middle\" x=\"2639.5\" y=\"-349.8\" font-family=\"Helvetica,sans-Serif\" font-size=\"14.00\">class = 0</text>\n</g>\n<!-- 24&#45;&gt;40 -->\n<g id=\"edge40\" class=\"edge\">\n<title>24&#45;&gt;40</title>\n<path fill=\"none\" stroke=\"black\" d=\"M1688.15,-491.12C1885.33,-469.02 2344.77,-417.53 2544.24,-395.18\"/>\n<polygon fill=\"black\" stroke=\"black\" points=\"2544.86,-398.63 2554.41,-394.04 2544.08,-391.67 2544.86,-398.63\"/>\n</g>\n<!-- 26 -->\n<g id=\"node27\" class=\"node\">\n<title>26</title>\n<path fill=\"#f0b58b\" stroke=\"black\" d=\"M1535.5,-306C1535.5,-306 1389.5,-306 1389.5,-306 1383.5,-306 1377.5,-300 1377.5,-294 1377.5,-294 1377.5,-235 1377.5,-235 1377.5,-229 1383.5,-223 1389.5,-223 1389.5,-223 1535.5,-223 1535.5,-223 1541.5,-223 1547.5,-229 1547.5,-235 1547.5,-235 1547.5,-294 1547.5,-294 1547.5,-300 1541.5,-306 1535.5,-306\"/>\n<text text-anchor=\"middle\" x=\"1462.5\" y=\"-290.8\" font-family=\"Helvetica,sans-Serif\" font-size=\"14.00\">Lat &lt;= 40.727</text>\n<text text-anchor=\"middle\" x=\"1462.5\" y=\"-275.8\" font-family=\"Helvetica,sans-Serif\" font-size=\"14.00\">gini = 0.482</text>\n<text text-anchor=\"middle\" x=\"1462.5\" y=\"-260.8\" font-family=\"Helvetica,sans-Serif\" font-size=\"14.00\">samples = 309</text>\n<text text-anchor=\"middle\" x=\"1462.5\" y=\"-245.8\" font-family=\"Helvetica,sans-Serif\" font-size=\"14.00\">value = [210, 69, 23, 6, 1]</text>\n<text text-anchor=\"middle\" x=\"1462.5\" y=\"-230.8\" font-family=\"Helvetica,sans-Serif\" font-size=\"14.00\">class = 0</text>\n</g>\n<!-- 25&#45;&gt;26 -->\n<g id=\"edge26\" class=\"edge\">\n<title>25&#45;&gt;26</title>\n<path fill=\"none\" stroke=\"black\" d=\"M1549.36,-341.91C1538.63,-332.47 1527.12,-322.34 1516.1,-312.65\"/>\n<polygon fill=\"black\" stroke=\"black\" points=\"1518.38,-310 1508.56,-306.02 1513.76,-315.25 1518.38,-310\"/>\n</g>\n<!-- 33 -->\n<g id=\"node34\" class=\"node\">\n<title>33</title>\n<path fill=\"#eda775\" stroke=\"black\" d=\"M1877.5,-306C1877.5,-306 1731.5,-306 1731.5,-306 1725.5,-306 1719.5,-300 1719.5,-294 1719.5,-294 1719.5,-235 1719.5,-235 1719.5,-229 1725.5,-223 1731.5,-223 1731.5,-223 1877.5,-223 1877.5,-223 1883.5,-223 1889.5,-229 1889.5,-235 1889.5,-235 1889.5,-294 1889.5,-294 1889.5,-300 1883.5,-306 1877.5,-306\"/>\n<text text-anchor=\"middle\" x=\"1804.5\" y=\"-290.8\" font-family=\"Helvetica,sans-Serif\" font-size=\"14.00\">Long &lt;= &#45;73.921</text>\n<text text-anchor=\"middle\" x=\"1804.5\" y=\"-275.8\" font-family=\"Helvetica,sans-Serif\" font-size=\"14.00\">gini = 0.395</text>\n<text text-anchor=\"middle\" x=\"1804.5\" y=\"-260.8\" font-family=\"Helvetica,sans-Serif\" font-size=\"14.00\">samples = 434</text>\n<text text-anchor=\"middle\" x=\"1804.5\" y=\"-245.8\" font-family=\"Helvetica,sans-Serif\" font-size=\"14.00\">value = [327, 81, 21, 4, 1]</text>\n<text text-anchor=\"middle\" x=\"1804.5\" y=\"-230.8\" font-family=\"Helvetica,sans-Serif\" font-size=\"14.00\">class = 0</text>\n</g>\n<!-- 25&#45;&gt;33 -->\n<g id=\"edge33\" class=\"edge\">\n<title>25&#45;&gt;33</title>\n<path fill=\"none\" stroke=\"black\" d=\"M1668.01,-341.91C1685.84,-331.92 1705.05,-321.17 1723.27,-310.98\"/>\n<polygon fill=\"black\" stroke=\"black\" points=\"1725.1,-313.96 1732.12,-306.02 1721.68,-307.85 1725.1,-313.96\"/>\n</g>\n<!-- 27 -->\n<g id=\"node28\" class=\"node\">\n<title>27</title>\n<path fill=\"#f0b489\" stroke=\"black\" d=\"M1279.5,-187C1279.5,-187 1133.5,-187 1133.5,-187 1127.5,-187 1121.5,-181 1121.5,-175 1121.5,-175 1121.5,-116 1121.5,-116 1121.5,-110 1127.5,-104 1133.5,-104 1133.5,-104 1279.5,-104 1279.5,-104 1285.5,-104 1291.5,-110 1291.5,-116 1291.5,-116 1291.5,-175 1291.5,-175 1291.5,-181 1285.5,-187 1279.5,-187\"/>\n<text text-anchor=\"middle\" x=\"1206.5\" y=\"-171.8\" font-family=\"Helvetica,sans-Serif\" font-size=\"14.00\">Lat &lt;= 40.577</text>\n<text text-anchor=\"middle\" x=\"1206.5\" y=\"-156.8\" font-family=\"Helvetica,sans-Serif\" font-size=\"14.00\">gini = 0.474</text>\n<text text-anchor=\"middle\" x=\"1206.5\" y=\"-141.8\" font-family=\"Helvetica,sans-Serif\" font-size=\"14.00\">samples = 303</text>\n<text text-anchor=\"middle\" x=\"1206.5\" y=\"-126.8\" font-family=\"Helvetica,sans-Serif\" font-size=\"14.00\">value = [208, 68, 20, 6, 1]</text>\n<text text-anchor=\"middle\" x=\"1206.5\" y=\"-111.8\" font-family=\"Helvetica,sans-Serif\" font-size=\"14.00\">class = 0</text>\n</g>\n<!-- 26&#45;&gt;27 -->\n<g id=\"edge27\" class=\"edge\">\n<title>26&#45;&gt;27</title>\n<path fill=\"none\" stroke=\"black\" d=\"M1377.26,-224.54C1352.77,-213.35 1325.93,-201.08 1300.93,-189.66\"/>\n<polygon fill=\"black\" stroke=\"black\" points=\"1302.36,-186.46 1291.81,-185.49 1299.45,-192.83 1302.36,-186.46\"/>\n</g>\n<!-- 30 -->\n<g id=\"node31\" class=\"node\">\n<title>30</title>\n<path fill=\"#cef8f0\" stroke=\"black\" d=\"M1520.5,-187C1520.5,-187 1404.5,-187 1404.5,-187 1398.5,-187 1392.5,-181 1392.5,-175 1392.5,-175 1392.5,-116 1392.5,-116 1392.5,-110 1398.5,-104 1404.5,-104 1404.5,-104 1520.5,-104 1520.5,-104 1526.5,-104 1532.5,-110 1532.5,-116 1532.5,-116 1532.5,-175 1532.5,-175 1532.5,-181 1526.5,-187 1520.5,-187\"/>\n<text text-anchor=\"middle\" x=\"1462.5\" y=\"-171.8\" font-family=\"Helvetica,sans-Serif\" font-size=\"14.00\">Lat &lt;= 40.728</text>\n<text text-anchor=\"middle\" x=\"1462.5\" y=\"-156.8\" font-family=\"Helvetica,sans-Serif\" font-size=\"14.00\">gini = 0.611</text>\n<text text-anchor=\"middle\" x=\"1462.5\" y=\"-141.8\" font-family=\"Helvetica,sans-Serif\" font-size=\"14.00\">samples = 6</text>\n<text text-anchor=\"middle\" x=\"1462.5\" y=\"-126.8\" font-family=\"Helvetica,sans-Serif\" font-size=\"14.00\">value = [2, 1, 3, 0, 0]</text>\n<text text-anchor=\"middle\" x=\"1462.5\" y=\"-111.8\" font-family=\"Helvetica,sans-Serif\" font-size=\"14.00\">class = 2</text>\n</g>\n<!-- 26&#45;&gt;30 -->\n<g id=\"edge30\" class=\"edge\">\n<title>26&#45;&gt;30</title>\n<path fill=\"none\" stroke=\"black\" d=\"M1462.5,-222.91C1462.5,-214.65 1462.5,-205.86 1462.5,-197.3\"/>\n<polygon fill=\"black\" stroke=\"black\" points=\"1466,-197.02 1462.5,-187.02 1459,-197.02 1466,-197.02\"/>\n</g>\n<!-- 28 -->\n<g id=\"node29\" class=\"node\">\n<title>28</title>\n<path fill=\"#e58139\" stroke=\"black\" d=\"M1091.5,-68C1091.5,-68 975.5,-68 975.5,-68 969.5,-68 963.5,-62 963.5,-56 963.5,-56 963.5,-12 963.5,-12 963.5,-6 969.5,0 975.5,0 975.5,0 1091.5,0 1091.5,0 1097.5,0 1103.5,-6 1103.5,-12 1103.5,-12 1103.5,-56 1103.5,-56 1103.5,-62 1097.5,-68 1091.5,-68\"/>\n<text text-anchor=\"middle\" x=\"1033.5\" y=\"-52.8\" font-family=\"Helvetica,sans-Serif\" font-size=\"14.00\">gini = 0.0</text>\n<text text-anchor=\"middle\" x=\"1033.5\" y=\"-37.8\" font-family=\"Helvetica,sans-Serif\" font-size=\"14.00\">samples = 8</text>\n<text text-anchor=\"middle\" x=\"1033.5\" y=\"-22.8\" font-family=\"Helvetica,sans-Serif\" font-size=\"14.00\">value = [8, 0, 0, 0, 0]</text>\n<text text-anchor=\"middle\" x=\"1033.5\" y=\"-7.8\" font-family=\"Helvetica,sans-Serif\" font-size=\"14.00\">class = 0</text>\n</g>\n<!-- 27&#45;&gt;28 -->\n<g id=\"edge28\" class=\"edge\">\n<title>27&#45;&gt;28</title>\n<path fill=\"none\" stroke=\"black\" d=\"M1142.08,-103.73C1126.44,-93.82 1109.76,-83.27 1094.29,-73.48\"/>\n<polygon fill=\"black\" stroke=\"black\" points=\"1096.16,-70.52 1085.83,-68.13 1092.41,-76.43 1096.16,-70.52\"/>\n</g>\n<!-- 29 -->\n<g id=\"node30\" class=\"node\">\n<title>29</title>\n<path fill=\"#f0b68c\" stroke=\"black\" d=\"M1279.5,-68C1279.5,-68 1133.5,-68 1133.5,-68 1127.5,-68 1121.5,-62 1121.5,-56 1121.5,-56 1121.5,-12 1121.5,-12 1121.5,-6 1127.5,0 1133.5,0 1133.5,0 1279.5,0 1279.5,0 1285.5,0 1291.5,-6 1291.5,-12 1291.5,-12 1291.5,-56 1291.5,-56 1291.5,-62 1285.5,-68 1279.5,-68\"/>\n<text text-anchor=\"middle\" x=\"1206.5\" y=\"-52.8\" font-family=\"Helvetica,sans-Serif\" font-size=\"14.00\">gini = 0.482</text>\n<text text-anchor=\"middle\" x=\"1206.5\" y=\"-37.8\" font-family=\"Helvetica,sans-Serif\" font-size=\"14.00\">samples = 295</text>\n<text text-anchor=\"middle\" x=\"1206.5\" y=\"-22.8\" font-family=\"Helvetica,sans-Serif\" font-size=\"14.00\">value = [200, 68, 20, 6, 1]</text>\n<text text-anchor=\"middle\" x=\"1206.5\" y=\"-7.8\" font-family=\"Helvetica,sans-Serif\" font-size=\"14.00\">class = 0</text>\n</g>\n<!-- 27&#45;&gt;29 -->\n<g id=\"edge29\" class=\"edge\">\n<title>27&#45;&gt;29</title>\n<path fill=\"none\" stroke=\"black\" d=\"M1206.5,-103.73C1206.5,-95.52 1206.5,-86.86 1206.5,-78.56\"/>\n<polygon fill=\"black\" stroke=\"black\" points=\"1210,-78.3 1206.5,-68.3 1203,-78.3 1210,-78.3\"/>\n</g>\n<!-- 31 -->\n<g id=\"node32\" class=\"node\">\n<title>31</title>\n<path fill=\"#ffffff\" stroke=\"black\" d=\"M1437.5,-68C1437.5,-68 1321.5,-68 1321.5,-68 1315.5,-68 1309.5,-62 1309.5,-56 1309.5,-56 1309.5,-12 1309.5,-12 1309.5,-6 1315.5,0 1321.5,0 1321.5,0 1437.5,0 1437.5,0 1443.5,0 1449.5,-6 1449.5,-12 1449.5,-12 1449.5,-56 1449.5,-56 1449.5,-62 1443.5,-68 1437.5,-68\"/>\n<text text-anchor=\"middle\" x=\"1379.5\" y=\"-52.8\" font-family=\"Helvetica,sans-Serif\" font-size=\"14.00\">gini = 0.64</text>\n<text text-anchor=\"middle\" x=\"1379.5\" y=\"-37.8\" font-family=\"Helvetica,sans-Serif\" font-size=\"14.00\">samples = 5</text>\n<text text-anchor=\"middle\" x=\"1379.5\" y=\"-22.8\" font-family=\"Helvetica,sans-Serif\" font-size=\"14.00\">value = [2, 1, 2, 0, 0]</text>\n<text text-anchor=\"middle\" x=\"1379.5\" y=\"-7.8\" font-family=\"Helvetica,sans-Serif\" font-size=\"14.00\">class = 0</text>\n</g>\n<!-- 30&#45;&gt;31 -->\n<g id=\"edge31\" class=\"edge\">\n<title>30&#45;&gt;31</title>\n<path fill=\"none\" stroke=\"black\" d=\"M1431.59,-103.73C1424.82,-94.79 1417.64,-85.32 1410.85,-76.36\"/>\n<polygon fill=\"black\" stroke=\"black\" points=\"1413.57,-74.15 1404.74,-68.3 1407.99,-78.38 1413.57,-74.15\"/>\n</g>\n<!-- 32 -->\n<g id=\"node33\" class=\"node\">\n<title>32</title>\n<path fill=\"#39e5c5\" stroke=\"black\" d=\"M1595.5,-68C1595.5,-68 1479.5,-68 1479.5,-68 1473.5,-68 1467.5,-62 1467.5,-56 1467.5,-56 1467.5,-12 1467.5,-12 1467.5,-6 1473.5,0 1479.5,0 1479.5,0 1595.5,0 1595.5,0 1601.5,0 1607.5,-6 1607.5,-12 1607.5,-12 1607.5,-56 1607.5,-56 1607.5,-62 1601.5,-68 1595.5,-68\"/>\n<text text-anchor=\"middle\" x=\"1537.5\" y=\"-52.8\" font-family=\"Helvetica,sans-Serif\" font-size=\"14.00\">gini = 0.0</text>\n<text text-anchor=\"middle\" x=\"1537.5\" y=\"-37.8\" font-family=\"Helvetica,sans-Serif\" font-size=\"14.00\">samples = 1</text>\n<text text-anchor=\"middle\" x=\"1537.5\" y=\"-22.8\" font-family=\"Helvetica,sans-Serif\" font-size=\"14.00\">value = [0, 0, 1, 0, 0]</text>\n<text text-anchor=\"middle\" x=\"1537.5\" y=\"-7.8\" font-family=\"Helvetica,sans-Serif\" font-size=\"14.00\">class = 2</text>\n</g>\n<!-- 30&#45;&gt;32 -->\n<g id=\"edge32\" class=\"edge\">\n<title>30&#45;&gt;32</title>\n<path fill=\"none\" stroke=\"black\" d=\"M1490.43,-103.73C1496.49,-94.88 1502.9,-85.51 1508.99,-76.63\"/>\n<polygon fill=\"black\" stroke=\"black\" points=\"1511.93,-78.53 1514.69,-68.3 1506.15,-74.57 1511.93,-78.53\"/>\n</g>\n<!-- 34 -->\n<g id=\"node35\" class=\"node\">\n<title>34</title>\n<path fill=\"#eda978\" stroke=\"black\" d=\"M1877.5,-187C1877.5,-187 1731.5,-187 1731.5,-187 1725.5,-187 1719.5,-181 1719.5,-175 1719.5,-175 1719.5,-116 1719.5,-116 1719.5,-110 1725.5,-104 1731.5,-104 1731.5,-104 1877.5,-104 1877.5,-104 1883.5,-104 1889.5,-110 1889.5,-116 1889.5,-116 1889.5,-175 1889.5,-175 1889.5,-181 1883.5,-187 1877.5,-187\"/>\n<text text-anchor=\"middle\" x=\"1804.5\" y=\"-171.8\" font-family=\"Helvetica,sans-Serif\" font-size=\"14.00\">Lat &lt;= 40.792</text>\n<text text-anchor=\"middle\" x=\"1804.5\" y=\"-156.8\" font-family=\"Helvetica,sans-Serif\" font-size=\"14.00\">gini = 0.408</text>\n<text text-anchor=\"middle\" x=\"1804.5\" y=\"-141.8\" font-family=\"Helvetica,sans-Serif\" font-size=\"14.00\">samples = 405</text>\n<text text-anchor=\"middle\" x=\"1804.5\" y=\"-126.8\" font-family=\"Helvetica,sans-Serif\" font-size=\"14.00\">value = [301, 78, 21, 4, 1]</text>\n<text text-anchor=\"middle\" x=\"1804.5\" y=\"-111.8\" font-family=\"Helvetica,sans-Serif\" font-size=\"14.00\">class = 0</text>\n</g>\n<!-- 33&#45;&gt;34 -->\n<g id=\"edge34\" class=\"edge\">\n<title>33&#45;&gt;34</title>\n<path fill=\"none\" stroke=\"black\" d=\"M1804.5,-222.91C1804.5,-214.65 1804.5,-205.86 1804.5,-197.3\"/>\n<polygon fill=\"black\" stroke=\"black\" points=\"1808,-197.02 1804.5,-187.02 1801,-197.02 1808,-197.02\"/>\n</g>\n<!-- 37 -->\n<g id=\"node38\" class=\"node\">\n<title>37</title>\n<path fill=\"#e89050\" stroke=\"black\" d=\"M2122,-187C2122,-187 1999,-187 1999,-187 1993,-187 1987,-181 1987,-175 1987,-175 1987,-116 1987,-116 1987,-110 1993,-104 1999,-104 1999,-104 2122,-104 2122,-104 2128,-104 2134,-110 2134,-116 2134,-116 2134,-175 2134,-175 2134,-181 2128,-187 2122,-187\"/>\n<text text-anchor=\"middle\" x=\"2060.5\" y=\"-171.8\" font-family=\"Helvetica,sans-Serif\" font-size=\"14.00\">Long &lt;= &#45;73.917</text>\n<text text-anchor=\"middle\" x=\"2060.5\" y=\"-156.8\" font-family=\"Helvetica,sans-Serif\" font-size=\"14.00\">gini = 0.185</text>\n<text text-anchor=\"middle\" x=\"2060.5\" y=\"-141.8\" font-family=\"Helvetica,sans-Serif\" font-size=\"14.00\">samples = 29</text>\n<text text-anchor=\"middle\" x=\"2060.5\" y=\"-126.8\" font-family=\"Helvetica,sans-Serif\" font-size=\"14.00\">value = [26, 3, 0, 0, 0]</text>\n<text text-anchor=\"middle\" x=\"2060.5\" y=\"-111.8\" font-family=\"Helvetica,sans-Serif\" font-size=\"14.00\">class = 0</text>\n</g>\n<!-- 33&#45;&gt;37 -->\n<g id=\"edge37\" class=\"edge\">\n<title>33&#45;&gt;37</title>\n<path fill=\"none\" stroke=\"black\" d=\"M1889.74,-224.54C1917.97,-211.64 1949.33,-197.31 1977.39,-184.48\"/>\n<polygon fill=\"black\" stroke=\"black\" points=\"1979.14,-187.53 1986.78,-180.19 1976.23,-181.17 1979.14,-187.53\"/>\n</g>\n<!-- 35 -->\n<g id=\"node36\" class=\"node\">\n<title>35</title>\n<path fill=\"#eda572\" stroke=\"black\" d=\"M1783.5,-68C1783.5,-68 1637.5,-68 1637.5,-68 1631.5,-68 1625.5,-62 1625.5,-56 1625.5,-56 1625.5,-12 1625.5,-12 1625.5,-6 1631.5,0 1637.5,0 1637.5,0 1783.5,0 1783.5,0 1789.5,0 1795.5,-6 1795.5,-12 1795.5,-12 1795.5,-56 1795.5,-56 1795.5,-62 1789.5,-68 1783.5,-68\"/>\n<text text-anchor=\"middle\" x=\"1710.5\" y=\"-52.8\" font-family=\"Helvetica,sans-Serif\" font-size=\"14.00\">gini = 0.387</text>\n<text text-anchor=\"middle\" x=\"1710.5\" y=\"-37.8\" font-family=\"Helvetica,sans-Serif\" font-size=\"14.00\">samples = 365</text>\n<text text-anchor=\"middle\" x=\"1710.5\" y=\"-22.8\" font-family=\"Helvetica,sans-Serif\" font-size=\"14.00\">value = [278, 64, 18, 4, 1]</text>\n<text text-anchor=\"middle\" x=\"1710.5\" y=\"-7.8\" font-family=\"Helvetica,sans-Serif\" font-size=\"14.00\">class = 0</text>\n</g>\n<!-- 34&#45;&gt;35 -->\n<g id=\"edge35\" class=\"edge\">\n<title>34&#45;&gt;35</title>\n<path fill=\"none\" stroke=\"black\" d=\"M1769.5,-103.73C1761.75,-94.7 1753.53,-85.12 1745.77,-76.08\"/>\n<polygon fill=\"black\" stroke=\"black\" points=\"1748.26,-73.61 1739.09,-68.3 1742.94,-78.17 1748.26,-73.61\"/>\n</g>\n<!-- 36 -->\n<g id=\"node37\" class=\"node\">\n<title>36</title>\n<path fill=\"#f6d3ba\" stroke=\"black\" d=\"M1957,-68C1957,-68 1826,-68 1826,-68 1820,-68 1814,-62 1814,-56 1814,-56 1814,-12 1814,-12 1814,-6 1820,0 1826,0 1826,0 1957,0 1957,0 1963,0 1969,-6 1969,-12 1969,-12 1969,-56 1969,-56 1969,-62 1963,-68 1957,-68\"/>\n<text text-anchor=\"middle\" x=\"1891.5\" y=\"-52.8\" font-family=\"Helvetica,sans-Serif\" font-size=\"14.00\">gini = 0.541</text>\n<text text-anchor=\"middle\" x=\"1891.5\" y=\"-37.8\" font-family=\"Helvetica,sans-Serif\" font-size=\"14.00\">samples = 40</text>\n<text text-anchor=\"middle\" x=\"1891.5\" y=\"-22.8\" font-family=\"Helvetica,sans-Serif\" font-size=\"14.00\">value = [23, 14, 3, 0, 0]</text>\n<text text-anchor=\"middle\" x=\"1891.5\" y=\"-7.8\" font-family=\"Helvetica,sans-Serif\" font-size=\"14.00\">class = 0</text>\n</g>\n<!-- 34&#45;&gt;36 -->\n<g id=\"edge36\" class=\"edge\">\n<title>34&#45;&gt;36</title>\n<path fill=\"none\" stroke=\"black\" d=\"M1836.9,-103.73C1844,-94.79 1851.52,-85.32 1858.64,-76.36\"/>\n<polygon fill=\"black\" stroke=\"black\" points=\"1861.56,-78.31 1865.04,-68.3 1856.08,-73.95 1861.56,-78.31\"/>\n</g>\n<!-- 38 -->\n<g id=\"node39\" class=\"node\">\n<title>38</title>\n<path fill=\"#e58139\" stroke=\"black\" d=\"M2122,-68C2122,-68 1999,-68 1999,-68 1993,-68 1987,-62 1987,-56 1987,-56 1987,-12 1987,-12 1987,-6 1993,0 1999,0 1999,0 2122,0 2122,0 2128,0 2134,-6 2134,-12 2134,-12 2134,-56 2134,-56 2134,-62 2128,-68 2122,-68\"/>\n<text text-anchor=\"middle\" x=\"2060.5\" y=\"-52.8\" font-family=\"Helvetica,sans-Serif\" font-size=\"14.00\">gini = 0.0</text>\n<text text-anchor=\"middle\" x=\"2060.5\" y=\"-37.8\" font-family=\"Helvetica,sans-Serif\" font-size=\"14.00\">samples = 10</text>\n<text text-anchor=\"middle\" x=\"2060.5\" y=\"-22.8\" font-family=\"Helvetica,sans-Serif\" font-size=\"14.00\">value = [10, 0, 0, 0, 0]</text>\n<text text-anchor=\"middle\" x=\"2060.5\" y=\"-7.8\" font-family=\"Helvetica,sans-Serif\" font-size=\"14.00\">class = 0</text>\n</g>\n<!-- 37&#45;&gt;38 -->\n<g id=\"edge38\" class=\"edge\">\n<title>37&#45;&gt;38</title>\n<path fill=\"none\" stroke=\"black\" d=\"M2060.5,-103.73C2060.5,-95.52 2060.5,-86.86 2060.5,-78.56\"/>\n<polygon fill=\"black\" stroke=\"black\" points=\"2064,-78.3 2060.5,-68.3 2057,-78.3 2064,-78.3\"/>\n</g>\n<!-- 39 -->\n<g id=\"node40\" class=\"node\">\n<title>39</title>\n<path fill=\"#ea995e\" stroke=\"black\" d=\"M2287,-68C2287,-68 2164,-68 2164,-68 2158,-68 2152,-62 2152,-56 2152,-56 2152,-12 2152,-12 2152,-6 2158,0 2164,0 2164,0 2287,0 2287,0 2293,0 2299,-6 2299,-12 2299,-12 2299,-56 2299,-56 2299,-62 2293,-68 2287,-68\"/>\n<text text-anchor=\"middle\" x=\"2225.5\" y=\"-52.8\" font-family=\"Helvetica,sans-Serif\" font-size=\"14.00\">gini = 0.266</text>\n<text text-anchor=\"middle\" x=\"2225.5\" y=\"-37.8\" font-family=\"Helvetica,sans-Serif\" font-size=\"14.00\">samples = 19</text>\n<text text-anchor=\"middle\" x=\"2225.5\" y=\"-22.8\" font-family=\"Helvetica,sans-Serif\" font-size=\"14.00\">value = [16, 3, 0, 0, 0]</text>\n<text text-anchor=\"middle\" x=\"2225.5\" y=\"-7.8\" font-family=\"Helvetica,sans-Serif\" font-size=\"14.00\">class = 0</text>\n</g>\n<!-- 37&#45;&gt;39 -->\n<g id=\"edge39\" class=\"edge\">\n<title>37&#45;&gt;39</title>\n<path fill=\"none\" stroke=\"black\" d=\"M2121.94,-103.73C2136.72,-93.92 2152.47,-83.46 2167.11,-73.75\"/>\n<polygon fill=\"black\" stroke=\"black\" points=\"2169.19,-76.57 2175.59,-68.13 2165.32,-70.74 2169.19,-76.57\"/>\n</g>\n<!-- 41 -->\n<g id=\"node42\" class=\"node\">\n<title>41</title>\n<path fill=\"#f6d4bc\" stroke=\"black\" d=\"M2705,-306C2705,-306 2574,-306 2574,-306 2568,-306 2562,-300 2562,-294 2562,-294 2562,-235 2562,-235 2562,-229 2568,-223 2574,-223 2574,-223 2705,-223 2705,-223 2711,-223 2717,-229 2717,-235 2717,-235 2717,-294 2717,-294 2717,-300 2711,-306 2705,-306\"/>\n<text text-anchor=\"middle\" x=\"2639.5\" y=\"-290.8\" font-family=\"Helvetica,sans-Serif\" font-size=\"14.00\">Long &lt;= &#45;73.861</text>\n<text text-anchor=\"middle\" x=\"2639.5\" y=\"-275.8\" font-family=\"Helvetica,sans-Serif\" font-size=\"14.00\">gini = 0.602</text>\n<text text-anchor=\"middle\" x=\"2639.5\" y=\"-260.8\" font-family=\"Helvetica,sans-Serif\" font-size=\"14.00\">samples = 76</text>\n<text text-anchor=\"middle\" x=\"2639.5\" y=\"-245.8\" font-family=\"Helvetica,sans-Serif\" font-size=\"14.00\">value = [41, 23, 9, 3, 0]</text>\n<text text-anchor=\"middle\" x=\"2639.5\" y=\"-230.8\" font-family=\"Helvetica,sans-Serif\" font-size=\"14.00\">class = 0</text>\n</g>\n<!-- 40&#45;&gt;41 -->\n<g id=\"edge41\" class=\"edge\">\n<title>40&#45;&gt;41</title>\n<path fill=\"none\" stroke=\"black\" d=\"M2639.5,-341.91C2639.5,-333.65 2639.5,-324.86 2639.5,-316.3\"/>\n<polygon fill=\"black\" stroke=\"black\" points=\"2643,-316.02 2639.5,-306.02 2636,-316.02 2643,-316.02\"/>\n</g>\n<!-- 48 -->\n<g id=\"node49\" class=\"node\">\n<title>48</title>\n<path fill=\"#efb184\" stroke=\"black\" d=\"M3185,-306C3185,-306 3054,-306 3054,-306 3048,-306 3042,-300 3042,-294 3042,-294 3042,-235 3042,-235 3042,-229 3048,-223 3054,-223 3054,-223 3185,-223 3185,-223 3191,-223 3197,-229 3197,-235 3197,-235 3197,-294 3197,-294 3197,-300 3191,-306 3185,-306\"/>\n<text text-anchor=\"middle\" x=\"3119.5\" y=\"-290.8\" font-family=\"Helvetica,sans-Serif\" font-size=\"14.00\">Lat &lt;= 40.82</text>\n<text text-anchor=\"middle\" x=\"3119.5\" y=\"-275.8\" font-family=\"Helvetica,sans-Serif\" font-size=\"14.00\">gini = 0.448</text>\n<text text-anchor=\"middle\" x=\"3119.5\" y=\"-260.8\" font-family=\"Helvetica,sans-Serif\" font-size=\"14.00\">samples = 129</text>\n<text text-anchor=\"middle\" x=\"3119.5\" y=\"-245.8\" font-family=\"Helvetica,sans-Serif\" font-size=\"14.00\">value = [91, 29, 8, 0, 1]</text>\n<text text-anchor=\"middle\" x=\"3119.5\" y=\"-230.8\" font-family=\"Helvetica,sans-Serif\" font-size=\"14.00\">class = 0</text>\n</g>\n<!-- 40&#45;&gt;48 -->\n<g id=\"edge48\" class=\"edge\">\n<title>40&#45;&gt;48</title>\n<path fill=\"none\" stroke=\"black\" d=\"M2724.76,-361.72C2811.27,-340.63 2944.54,-308.15 3031.89,-286.85\"/>\n<polygon fill=\"black\" stroke=\"black\" points=\"3032.89,-290.21 3041.78,-284.44 3031.23,-283.41 3032.89,-290.21\"/>\n</g>\n<!-- 42 -->\n<g id=\"node43\" class=\"node\">\n<title>42</title>\n<path fill=\"#f4c9aa\" stroke=\"black\" d=\"M2622,-187C2622,-187 2491,-187 2491,-187 2485,-187 2479,-181 2479,-175 2479,-175 2479,-116 2479,-116 2479,-110 2485,-104 2491,-104 2491,-104 2622,-104 2622,-104 2628,-104 2634,-110 2634,-116 2634,-116 2634,-175 2634,-175 2634,-181 2628,-187 2622,-187\"/>\n<text text-anchor=\"middle\" x=\"2556.5\" y=\"-171.8\" font-family=\"Helvetica,sans-Serif\" font-size=\"14.00\">Long &lt;= &#45;73.878</text>\n<text text-anchor=\"middle\" x=\"2556.5\" y=\"-156.8\" font-family=\"Helvetica,sans-Serif\" font-size=\"14.00\">gini = 0.557</text>\n<text text-anchor=\"middle\" x=\"2556.5\" y=\"-141.8\" font-family=\"Helvetica,sans-Serif\" font-size=\"14.00\">samples = 59</text>\n<text text-anchor=\"middle\" x=\"2556.5\" y=\"-126.8\" font-family=\"Helvetica,sans-Serif\" font-size=\"14.00\">value = [35, 17, 5, 2, 0]</text>\n<text text-anchor=\"middle\" x=\"2556.5\" y=\"-111.8\" font-family=\"Helvetica,sans-Serif\" font-size=\"14.00\">class = 0</text>\n</g>\n<!-- 41&#45;&gt;42 -->\n<g id=\"edge42\" class=\"edge\">\n<title>41&#45;&gt;42</title>\n<path fill=\"none\" stroke=\"black\" d=\"M2610.7,-222.91C2604.39,-214.01 2597.65,-204.51 2591.14,-195.33\"/>\n<polygon fill=\"black\" stroke=\"black\" points=\"2593.89,-193.15 2585.25,-187.02 2588.18,-197.2 2593.89,-193.15\"/>\n</g>\n<!-- 45 -->\n<g id=\"node46\" class=\"node\">\n<title>45</title>\n<path fill=\"#ffffff\" stroke=\"black\" d=\"M2780.5,-187C2780.5,-187 2664.5,-187 2664.5,-187 2658.5,-187 2652.5,-181 2652.5,-175 2652.5,-175 2652.5,-116 2652.5,-116 2652.5,-110 2658.5,-104 2664.5,-104 2664.5,-104 2780.5,-104 2780.5,-104 2786.5,-104 2792.5,-110 2792.5,-116 2792.5,-116 2792.5,-175 2792.5,-175 2792.5,-181 2786.5,-187 2780.5,-187\"/>\n<text text-anchor=\"middle\" x=\"2722.5\" y=\"-171.8\" font-family=\"Helvetica,sans-Serif\" font-size=\"14.00\">Lat &lt;= 40.781</text>\n<text text-anchor=\"middle\" x=\"2722.5\" y=\"-156.8\" font-family=\"Helvetica,sans-Serif\" font-size=\"14.00\">gini = 0.692</text>\n<text text-anchor=\"middle\" x=\"2722.5\" y=\"-141.8\" font-family=\"Helvetica,sans-Serif\" font-size=\"14.00\">samples = 17</text>\n<text text-anchor=\"middle\" x=\"2722.5\" y=\"-126.8\" font-family=\"Helvetica,sans-Serif\" font-size=\"14.00\">value = [6, 6, 4, 1, 0]</text>\n<text text-anchor=\"middle\" x=\"2722.5\" y=\"-111.8\" font-family=\"Helvetica,sans-Serif\" font-size=\"14.00\">class = 0</text>\n</g>\n<!-- 41&#45;&gt;45 -->\n<g id=\"edge45\" class=\"edge\">\n<title>41&#45;&gt;45</title>\n<path fill=\"none\" stroke=\"black\" d=\"M2668.3,-222.91C2674.61,-214.01 2681.35,-204.51 2687.86,-195.33\"/>\n<polygon fill=\"black\" stroke=\"black\" points=\"2690.82,-197.2 2693.75,-187.02 2685.11,-193.15 2690.82,-197.2\"/>\n</g>\n<!-- 43 -->\n<g id=\"node44\" class=\"node\">\n<title>43</title>\n<path fill=\"#f7dac5\" stroke=\"black\" d=\"M2460,-68C2460,-68 2329,-68 2329,-68 2323,-68 2317,-62 2317,-56 2317,-56 2317,-12 2317,-12 2317,-6 2323,0 2329,0 2329,0 2460,0 2460,0 2466,0 2472,-6 2472,-12 2472,-12 2472,-56 2472,-56 2472,-62 2466,-68 2460,-68\"/>\n<text text-anchor=\"middle\" x=\"2394.5\" y=\"-52.8\" font-family=\"Helvetica,sans-Serif\" font-size=\"14.00\">gini = 0.597</text>\n<text text-anchor=\"middle\" x=\"2394.5\" y=\"-37.8\" font-family=\"Helvetica,sans-Serif\" font-size=\"14.00\">samples = 51</text>\n<text text-anchor=\"middle\" x=\"2394.5\" y=\"-22.8\" font-family=\"Helvetica,sans-Serif\" font-size=\"14.00\">value = [27, 17, 5, 2, 0]</text>\n<text text-anchor=\"middle\" x=\"2394.5\" y=\"-7.8\" font-family=\"Helvetica,sans-Serif\" font-size=\"14.00\">class = 0</text>\n</g>\n<!-- 42&#45;&gt;43 -->\n<g id=\"edge43\" class=\"edge\">\n<title>42&#45;&gt;43</title>\n<path fill=\"none\" stroke=\"black\" d=\"M2496.18,-103.73C2481.66,-93.92 2466.2,-83.46 2451.83,-73.75\"/>\n<polygon fill=\"black\" stroke=\"black\" points=\"2453.75,-70.83 2443.51,-68.13 2449.83,-76.62 2453.75,-70.83\"/>\n</g>\n<!-- 44 -->\n<g id=\"node45\" class=\"node\">\n<title>44</title>\n<path fill=\"#e58139\" stroke=\"black\" d=\"M2618.5,-68C2618.5,-68 2502.5,-68 2502.5,-68 2496.5,-68 2490.5,-62 2490.5,-56 2490.5,-56 2490.5,-12 2490.5,-12 2490.5,-6 2496.5,0 2502.5,0 2502.5,0 2618.5,0 2618.5,0 2624.5,0 2630.5,-6 2630.5,-12 2630.5,-12 2630.5,-56 2630.5,-56 2630.5,-62 2624.5,-68 2618.5,-68\"/>\n<text text-anchor=\"middle\" x=\"2560.5\" y=\"-52.8\" font-family=\"Helvetica,sans-Serif\" font-size=\"14.00\">gini = 0.0</text>\n<text text-anchor=\"middle\" x=\"2560.5\" y=\"-37.8\" font-family=\"Helvetica,sans-Serif\" font-size=\"14.00\">samples = 8</text>\n<text text-anchor=\"middle\" x=\"2560.5\" y=\"-22.8\" font-family=\"Helvetica,sans-Serif\" font-size=\"14.00\">value = [8, 0, 0, 0, 0]</text>\n<text text-anchor=\"middle\" x=\"2560.5\" y=\"-7.8\" font-family=\"Helvetica,sans-Serif\" font-size=\"14.00\">class = 0</text>\n</g>\n<!-- 42&#45;&gt;44 -->\n<g id=\"edge44\" class=\"edge\">\n<title>42&#45;&gt;44</title>\n<path fill=\"none\" stroke=\"black\" d=\"M2557.99,-103.73C2558.29,-95.52 2558.61,-86.86 2558.91,-78.56\"/>\n<polygon fill=\"black\" stroke=\"black\" points=\"2562.42,-78.42 2559.28,-68.3 2555.42,-78.17 2562.42,-78.42\"/>\n</g>\n<!-- 46 -->\n<g id=\"node47\" class=\"node\">\n<title>46</title>\n<path fill=\"#e3fbf7\" stroke=\"black\" d=\"M2776.5,-68C2776.5,-68 2660.5,-68 2660.5,-68 2654.5,-68 2648.5,-62 2648.5,-56 2648.5,-56 2648.5,-12 2648.5,-12 2648.5,-6 2654.5,0 2660.5,0 2660.5,0 2776.5,0 2776.5,0 2782.5,0 2788.5,-6 2788.5,-12 2788.5,-12 2788.5,-56 2788.5,-56 2788.5,-62 2782.5,-68 2776.5,-68\"/>\n<text text-anchor=\"middle\" x=\"2718.5\" y=\"-52.8\" font-family=\"Helvetica,sans-Serif\" font-size=\"14.00\">gini = 0.66</text>\n<text text-anchor=\"middle\" x=\"2718.5\" y=\"-37.8\" font-family=\"Helvetica,sans-Serif\" font-size=\"14.00\">samples = 10</text>\n<text text-anchor=\"middle\" x=\"2718.5\" y=\"-22.8\" font-family=\"Helvetica,sans-Serif\" font-size=\"14.00\">value = [3, 3, 4, 0, 0]</text>\n<text text-anchor=\"middle\" x=\"2718.5\" y=\"-7.8\" font-family=\"Helvetica,sans-Serif\" font-size=\"14.00\">class = 2</text>\n</g>\n<!-- 45&#45;&gt;46 -->\n<g id=\"edge46\" class=\"edge\">\n<title>45&#45;&gt;46</title>\n<path fill=\"none\" stroke=\"black\" d=\"M2721.01,-103.73C2720.71,-95.52 2720.39,-86.86 2720.09,-78.56\"/>\n<polygon fill=\"black\" stroke=\"black\" points=\"2723.58,-78.17 2719.72,-68.3 2716.58,-78.42 2723.58,-78.17\"/>\n</g>\n<!-- 47 -->\n<g id=\"node48\" class=\"node\">\n<title>47</title>\n<path fill=\"#ffffff\" stroke=\"black\" d=\"M2934.5,-68C2934.5,-68 2818.5,-68 2818.5,-68 2812.5,-68 2806.5,-62 2806.5,-56 2806.5,-56 2806.5,-12 2806.5,-12 2806.5,-6 2812.5,0 2818.5,0 2818.5,0 2934.5,0 2934.5,0 2940.5,0 2946.5,-6 2946.5,-12 2946.5,-12 2946.5,-56 2946.5,-56 2946.5,-62 2940.5,-68 2934.5,-68\"/>\n<text text-anchor=\"middle\" x=\"2876.5\" y=\"-52.8\" font-family=\"Helvetica,sans-Serif\" font-size=\"14.00\">gini = 0.612</text>\n<text text-anchor=\"middle\" x=\"2876.5\" y=\"-37.8\" font-family=\"Helvetica,sans-Serif\" font-size=\"14.00\">samples = 7</text>\n<text text-anchor=\"middle\" x=\"2876.5\" y=\"-22.8\" font-family=\"Helvetica,sans-Serif\" font-size=\"14.00\">value = [3, 3, 0, 1, 0]</text>\n<text text-anchor=\"middle\" x=\"2876.5\" y=\"-7.8\" font-family=\"Helvetica,sans-Serif\" font-size=\"14.00\">class = 0</text>\n</g>\n<!-- 45&#45;&gt;47 -->\n<g id=\"edge47\" class=\"edge\">\n<title>45&#45;&gt;47</title>\n<path fill=\"none\" stroke=\"black\" d=\"M2779.84,-103.73C2793.44,-94.06 2807.91,-83.77 2821.41,-74.17\"/>\n<polygon fill=\"black\" stroke=\"black\" points=\"2823.55,-76.95 2829.67,-68.3 2819.49,-71.24 2823.55,-76.95\"/>\n</g>\n<!-- 49 -->\n<g id=\"node50\" class=\"node\">\n<title>49</title>\n<path fill=\"#f0b68c\" stroke=\"black\" d=\"M3185,-187C3185,-187 3054,-187 3054,-187 3048,-187 3042,-181 3042,-175 3042,-175 3042,-116 3042,-116 3042,-110 3048,-104 3054,-104 3054,-104 3185,-104 3185,-104 3191,-104 3197,-110 3197,-116 3197,-116 3197,-175 3197,-175 3197,-181 3191,-187 3185,-187\"/>\n<text text-anchor=\"middle\" x=\"3119.5\" y=\"-171.8\" font-family=\"Helvetica,sans-Serif\" font-size=\"14.00\">Long &lt;= &#45;73.716</text>\n<text text-anchor=\"middle\" x=\"3119.5\" y=\"-156.8\" font-family=\"Helvetica,sans-Serif\" font-size=\"14.00\">gini = 0.466</text>\n<text text-anchor=\"middle\" x=\"3119.5\" y=\"-141.8\" font-family=\"Helvetica,sans-Serif\" font-size=\"14.00\">samples = 117</text>\n<text text-anchor=\"middle\" x=\"3119.5\" y=\"-126.8\" font-family=\"Helvetica,sans-Serif\" font-size=\"14.00\">value = [80, 29, 8, 0, 0]</text>\n<text text-anchor=\"middle\" x=\"3119.5\" y=\"-111.8\" font-family=\"Helvetica,sans-Serif\" font-size=\"14.00\">class = 0</text>\n</g>\n<!-- 48&#45;&gt;49 -->\n<g id=\"edge49\" class=\"edge\">\n<title>48&#45;&gt;49</title>\n<path fill=\"none\" stroke=\"black\" d=\"M3119.5,-222.91C3119.5,-214.65 3119.5,-205.86 3119.5,-197.3\"/>\n<polygon fill=\"black\" stroke=\"black\" points=\"3123,-197.02 3119.5,-187.02 3116,-197.02 3123,-197.02\"/>\n</g>\n<!-- 52 -->\n<g id=\"node53\" class=\"node\">\n<title>52</title>\n<path fill=\"#e78c4b\" stroke=\"black\" d=\"M3428,-187C3428,-187 3305,-187 3305,-187 3299,-187 3293,-181 3293,-175 3293,-175 3293,-116 3293,-116 3293,-110 3299,-104 3305,-104 3305,-104 3428,-104 3428,-104 3434,-104 3440,-110 3440,-116 3440,-116 3440,-175 3440,-175 3440,-181 3434,-187 3428,-187\"/>\n<text text-anchor=\"middle\" x=\"3366.5\" y=\"-171.8\" font-family=\"Helvetica,sans-Serif\" font-size=\"14.00\">Long &lt;= &#45;73.842</text>\n<text text-anchor=\"middle\" x=\"3366.5\" y=\"-156.8\" font-family=\"Helvetica,sans-Serif\" font-size=\"14.00\">gini = 0.153</text>\n<text text-anchor=\"middle\" x=\"3366.5\" y=\"-141.8\" font-family=\"Helvetica,sans-Serif\" font-size=\"14.00\">samples = 12</text>\n<text text-anchor=\"middle\" x=\"3366.5\" y=\"-126.8\" font-family=\"Helvetica,sans-Serif\" font-size=\"14.00\">value = [11, 0, 0, 0, 1]</text>\n<text text-anchor=\"middle\" x=\"3366.5\" y=\"-111.8\" font-family=\"Helvetica,sans-Serif\" font-size=\"14.00\">class = 0</text>\n</g>\n<!-- 48&#45;&gt;52 -->\n<g id=\"edge52\" class=\"edge\">\n<title>48&#45;&gt;52</title>\n<path fill=\"none\" stroke=\"black\" d=\"M3197.31,-226.64C3224.76,-213.64 3255.7,-198.98 3283.55,-185.79\"/>\n<polygon fill=\"black\" stroke=\"black\" points=\"3285.33,-188.82 3292.87,-181.38 3282.33,-182.5 3285.33,-188.82\"/>\n</g>\n<!-- 50 -->\n<g id=\"node51\" class=\"node\">\n<title>50</title>\n<path fill=\"#efb489\" stroke=\"black\" d=\"M3108,-68C3108,-68 2977,-68 2977,-68 2971,-68 2965,-62 2965,-56 2965,-56 2965,-12 2965,-12 2965,-6 2971,0 2977,0 2977,0 3108,0 3108,0 3114,0 3120,-6 3120,-12 3120,-12 3120,-56 3120,-56 3120,-62 3114,-68 3108,-68\"/>\n<text text-anchor=\"middle\" x=\"3042.5\" y=\"-52.8\" font-family=\"Helvetica,sans-Serif\" font-size=\"14.00\">gini = 0.459</text>\n<text text-anchor=\"middle\" x=\"3042.5\" y=\"-37.8\" font-family=\"Helvetica,sans-Serif\" font-size=\"14.00\">samples = 114</text>\n<text text-anchor=\"middle\" x=\"3042.5\" y=\"-22.8\" font-family=\"Helvetica,sans-Serif\" font-size=\"14.00\">value = [79, 27, 8, 0, 0]</text>\n<text text-anchor=\"middle\" x=\"3042.5\" y=\"-7.8\" font-family=\"Helvetica,sans-Serif\" font-size=\"14.00\">class = 0</text>\n</g>\n<!-- 49&#45;&gt;50 -->\n<g id=\"edge50\" class=\"edge\">\n<title>49&#45;&gt;50</title>\n<path fill=\"none\" stroke=\"black\" d=\"M3090.83,-103.73C3084.61,-94.88 3078.02,-85.51 3071.77,-76.63\"/>\n<polygon fill=\"black\" stroke=\"black\" points=\"3074.53,-74.47 3065.92,-68.3 3068.81,-78.49 3074.53,-74.47\"/>\n</g>\n<!-- 51 -->\n<g id=\"node52\" class=\"node\">\n<title>51</title>\n<path fill=\"#bdf29c\" stroke=\"black\" d=\"M3266.5,-68C3266.5,-68 3150.5,-68 3150.5,-68 3144.5,-68 3138.5,-62 3138.5,-56 3138.5,-56 3138.5,-12 3138.5,-12 3138.5,-6 3144.5,0 3150.5,0 3150.5,0 3266.5,0 3266.5,0 3272.5,0 3278.5,-6 3278.5,-12 3278.5,-12 3278.5,-56 3278.5,-56 3278.5,-62 3272.5,-68 3266.5,-68\"/>\n<text text-anchor=\"middle\" x=\"3208.5\" y=\"-52.8\" font-family=\"Helvetica,sans-Serif\" font-size=\"14.00\">gini = 0.444</text>\n<text text-anchor=\"middle\" x=\"3208.5\" y=\"-37.8\" font-family=\"Helvetica,sans-Serif\" font-size=\"14.00\">samples = 3</text>\n<text text-anchor=\"middle\" x=\"3208.5\" y=\"-22.8\" font-family=\"Helvetica,sans-Serif\" font-size=\"14.00\">value = [1, 2, 0, 0, 0]</text>\n<text text-anchor=\"middle\" x=\"3208.5\" y=\"-7.8\" font-family=\"Helvetica,sans-Serif\" font-size=\"14.00\">class = 1</text>\n</g>\n<!-- 49&#45;&gt;51 -->\n<g id=\"edge51\" class=\"edge\">\n<title>49&#45;&gt;51</title>\n<path fill=\"none\" stroke=\"black\" d=\"M3152.64,-103.73C3159.98,-94.7 3167.76,-85.12 3175.11,-76.08\"/>\n<polygon fill=\"black\" stroke=\"black\" points=\"3177.84,-78.27 3181.43,-68.3 3172.41,-73.85 3177.84,-78.27\"/>\n</g>\n<!-- 53 -->\n<g id=\"node54\" class=\"node\">\n<title>53</title>\n<path fill=\"#f2c09c\" stroke=\"black\" d=\"M3424.5,-68C3424.5,-68 3308.5,-68 3308.5,-68 3302.5,-68 3296.5,-62 3296.5,-56 3296.5,-56 3296.5,-12 3296.5,-12 3296.5,-6 3302.5,0 3308.5,0 3308.5,0 3424.5,0 3424.5,0 3430.5,0 3436.5,-6 3436.5,-12 3436.5,-12 3436.5,-56 3436.5,-56 3436.5,-62 3430.5,-68 3424.5,-68\"/>\n<text text-anchor=\"middle\" x=\"3366.5\" y=\"-52.8\" font-family=\"Helvetica,sans-Serif\" font-size=\"14.00\">gini = 0.444</text>\n<text text-anchor=\"middle\" x=\"3366.5\" y=\"-37.8\" font-family=\"Helvetica,sans-Serif\" font-size=\"14.00\">samples = 3</text>\n<text text-anchor=\"middle\" x=\"3366.5\" y=\"-22.8\" font-family=\"Helvetica,sans-Serif\" font-size=\"14.00\">value = [2, 0, 0, 0, 1]</text>\n<text text-anchor=\"middle\" x=\"3366.5\" y=\"-7.8\" font-family=\"Helvetica,sans-Serif\" font-size=\"14.00\">class = 0</text>\n</g>\n<!-- 52&#45;&gt;53 -->\n<g id=\"edge53\" class=\"edge\">\n<title>52&#45;&gt;53</title>\n<path fill=\"none\" stroke=\"black\" d=\"M3366.5,-103.73C3366.5,-95.52 3366.5,-86.86 3366.5,-78.56\"/>\n<polygon fill=\"black\" stroke=\"black\" points=\"3370,-78.3 3366.5,-68.3 3363,-78.3 3370,-78.3\"/>\n</g>\n<!-- 54 -->\n<g id=\"node55\" class=\"node\">\n<title>54</title>\n<path fill=\"#e58139\" stroke=\"black\" d=\"M3582.5,-68C3582.5,-68 3466.5,-68 3466.5,-68 3460.5,-68 3454.5,-62 3454.5,-56 3454.5,-56 3454.5,-12 3454.5,-12 3454.5,-6 3460.5,0 3466.5,0 3466.5,0 3582.5,0 3582.5,0 3588.5,0 3594.5,-6 3594.5,-12 3594.5,-12 3594.5,-56 3594.5,-56 3594.5,-62 3588.5,-68 3582.5,-68\"/>\n<text text-anchor=\"middle\" x=\"3524.5\" y=\"-52.8\" font-family=\"Helvetica,sans-Serif\" font-size=\"14.00\">gini = 0.0</text>\n<text text-anchor=\"middle\" x=\"3524.5\" y=\"-37.8\" font-family=\"Helvetica,sans-Serif\" font-size=\"14.00\">samples = 9</text>\n<text text-anchor=\"middle\" x=\"3524.5\" y=\"-22.8\" font-family=\"Helvetica,sans-Serif\" font-size=\"14.00\">value = [9, 0, 0, 0, 0]</text>\n<text text-anchor=\"middle\" x=\"3524.5\" y=\"-7.8\" font-family=\"Helvetica,sans-Serif\" font-size=\"14.00\">class = 0</text>\n</g>\n<!-- 52&#45;&gt;54 -->\n<g id=\"edge54\" class=\"edge\">\n<title>52&#45;&gt;54</title>\n<path fill=\"none\" stroke=\"black\" d=\"M3425.33,-103.73C3439.36,-94.01 3454.29,-83.66 3468.19,-74.02\"/>\n<polygon fill=\"black\" stroke=\"black\" points=\"3470.48,-76.7 3476.7,-68.13 3466.49,-70.94 3470.48,-76.7\"/>\n</g>\n</g>\n</svg>\n"
          },
          "metadata": {},
          "execution_count": 21
        }
      ]
    },
    {
      "cell_type": "code",
      "source": [
        "# making predictions using the testing dataset\n",
        "predictions = desi_tree_1.predict_proba(X_test)\n",
        "predictions[212]"
      ],
      "metadata": {
        "colab": {
          "base_uri": "https://localhost:8080/"
        },
        "id": "-DLsAOF1gkZB",
        "outputId": "f7150402-0000-423a-8c8c-8ef7ff6fe6b5"
      },
      "execution_count": 22,
      "outputs": [
        {
          "output_type": "execute_result",
          "data": {
            "text/plain": [
              "array([0.76164384, 0.17534247, 0.04931507, 0.0109589 , 0.00273973])"
            ]
          },
          "metadata": {},
          "execution_count": 22
        }
      ]
    },
    {
      "cell_type": "code",
      "source": [
        "predictions_list = []\n",
        "for i in predictions:\n",
        "  predictions_list.append(list(i).index(i.max())) # getting the index of the class with the highest probability"
      ],
      "metadata": {
        "id": "TQvVz_NrjqOD"
      },
      "execution_count": 23,
      "outputs": []
    },
    {
      "cell_type": "code",
      "source": [
        "# turning the list of predictions into strings so that it can be compared with the test labels\n",
        "predictions_list = [str(i) for i in predictions_list]\n",
        "#predictions_list"
      ],
      "metadata": {
        "id": "8Y6bNJvRszeR"
      },
      "execution_count": 24,
      "outputs": []
    },
    {
      "cell_type": "code",
      "source": [
        "comparison = []\n",
        "for (i, j) in zip(list(y_test), predictions_list):\n",
        "  #print(i, j)\n",
        "  if i == j:\n",
        "    comparison.append(1)\n",
        "  else:\n",
        "    comparison.append(0)"
      ],
      "metadata": {
        "id": "HPYoog7ctbFR"
      },
      "execution_count": 25,
      "outputs": []
    },
    {
      "cell_type": "code",
      "source": [
        "# finding the percentage correct out of all the predictions\n",
        "result_1 = sum(comparison)/len(comparison)\n",
        "print(result_1)"
      ],
      "metadata": {
        "colab": {
          "base_uri": "https://localhost:8080/"
        },
        "id": "EumpmLz-uasE",
        "outputId": "55cf55f5-ae1a-4613-d09b-66d298b8037d"
      },
      "execution_count": 26,
      "outputs": [
        {
          "output_type": "stream",
          "name": "stdout",
          "text": [
            "0.6392156862745098\n"
          ]
        }
      ]
    },
    {
      "cell_type": "markdown",
      "source": [
        "A percentage of 0.64 is not very good. Will try using other features to train the decision tree:"
      ],
      "metadata": {
        "id": "ikgmR48dGmg1"
      }
    },
    {
      "cell_type": "code",
      "source": [
        "# turning some of the above steps into a function for repeated use: \n",
        "def decision_tree_prediction(features):\n",
        "  X = df[features].values\n",
        "  X_train, X_test, y_train, y_test = train_test_split(X, y, test_size=0.2, random_state=1)\n",
        "\n",
        "  desi_tree = DecisionTreeClassifier(max_depth=6, random_state=42) \n",
        "  desi_tree.fit(X_train, y_train)\n",
        "\n",
        "  export_graphviz(\n",
        "      desi_tree,\n",
        "      out_file=os.path.join(IMAGES_PATH, \"pool_tree_new.dot\"),\n",
        "      feature_names = features,\n",
        "      class_names = y_unique,\n",
        "      rounded=True,filled=True)\n",
        "\n",
        "  predictions = desi_tree.predict_proba(X_test)\n",
        "  predictions_list = []\n",
        "  for i in predictions:\n",
        "    predictions_list.append(list(i).index(i.max())) # getting the index of the class with the highest probability\n",
        "  predictions_list = [str(i) for i in predictions_list] # turning the list of predictions into strings so that it can be compared with the test labels\n",
        "\n",
        "  comparison = []\n",
        "  for (i, j) in zip(list(y_test), predictions_list):\n",
        "    if i == j:\n",
        "      comparison.append(1)\n",
        "    else:\n",
        "      comparison.append(0)\n",
        "\n",
        "  result_2 = sum(comparison)/len(comparison)\n",
        "  print(result_2)"
      ],
      "metadata": {
        "id": "klGwsUqoEziH"
      },
      "execution_count": 27,
      "outputs": []
    },
    {
      "cell_type": "code",
      "source": [
        "# trying the 3 features of Longitude, Latitude, and PType_Code\n",
        "decision_tree_prediction(['Lat', 'Long', 'PType_Code'])"
      ],
      "metadata": {
        "colab": {
          "base_uri": "https://localhost:8080/"
        },
        "id": "RjdwL-GsG_g_",
        "outputId": "579e15bb-c3d9-4568-a761-4b599dd02d39"
      },
      "execution_count": 29,
      "outputs": [
        {
          "output_type": "stream",
          "name": "stdout",
          "text": [
            "0.6431372549019608\n"
          ]
        }
      ]
    },
    {
      "cell_type": "code",
      "source": [
        "# trying the 4 features of Longitude, Latitude, PType_Code, and Borough_Code\n",
        "decision_tree_prediction(['Lat', 'Long', 'PType_Code', 'Borough_Code'])"
      ],
      "metadata": {
        "colab": {
          "base_uri": "https://localhost:8080/"
        },
        "id": "W1JPjTaVIAMN",
        "outputId": "b26af94f-5fa9-481e-c190-2dada9174f08"
      },
      "execution_count": 30,
      "outputs": [
        {
          "output_type": "stream",
          "name": "stdout",
          "text": [
            "0.6431372549019608\n"
          ]
        }
      ]
    },
    {
      "cell_type": "code",
      "source": [
        "# trying the 4 features of Longitude, Latitude, PType_Code, Borough_Code, and ZIP\n",
        "decision_tree_prediction(['Lat', 'Long', 'PType_Code', 'Borough_Code', 'ZIP'])"
      ],
      "metadata": {
        "colab": {
          "base_uri": "https://localhost:8080/"
        },
        "id": "FuRTw_ZOIPdk",
        "outputId": "569139ef-47e6-49ae-e00a-1418aa0f0194"
      },
      "execution_count": 32,
      "outputs": [
        {
          "output_type": "stream",
          "name": "stdout",
          "text": [
            "0.6392156862745098\n"
          ]
        }
      ]
    },
    {
      "cell_type": "code",
      "source": [
        "# trying only the 2 features of PType_Code and Borough_Code\n",
        "decision_tree_prediction(['PType_Code', 'Borough_Code'])"
      ],
      "metadata": {
        "colab": {
          "base_uri": "https://localhost:8080/"
        },
        "id": "OodQyTwcItzP",
        "outputId": "63886363-2d20-4f9c-d749-0efaecd07c86"
      },
      "execution_count": 33,
      "outputs": [
        {
          "output_type": "stream",
          "name": "stdout",
          "text": [
            "0.6745098039215687\n"
          ]
        }
      ]
    },
    {
      "cell_type": "code",
      "source": [
        "Source.from_file(os.path.join(IMAGES_PATH, \"pool_tree_new.dot\"))"
      ],
      "metadata": {
        "id": "Pq-cnpNg5iOB",
        "colab": {
          "base_uri": "https://localhost:8080/",
          "height": 936
        },
        "outputId": "83fd1b40-1c8d-40c0-ad64-80080d33b287"
      },
      "execution_count": 34,
      "outputs": [
        {
          "output_type": "execute_result",
          "data": {
            "text/plain": [
              "<graphviz.files.Source at 0x7fd33cf6fa00>"
            ],
            "image/svg+xml": "<?xml version=\"1.0\" encoding=\"UTF-8\" standalone=\"no\"?>\n<!DOCTYPE svg PUBLIC \"-//W3C//DTD SVG 1.1//EN\"\n \"http://www.w3.org/Graphics/SVG/1.1/DTD/svg11.dtd\">\n<!-- Generated by graphviz version 2.43.0 (0)\n -->\n<!-- Title: Tree Pages: 1 -->\n<svg width=\"1146pt\" height=\"671pt\"\n viewBox=\"0.00 0.00 1146.00 671.00\" xmlns=\"http://www.w3.org/2000/svg\" xmlns:xlink=\"http://www.w3.org/1999/xlink\">\n<g id=\"graph0\" class=\"graph\" transform=\"scale(1 1) rotate(0) translate(4 667)\">\n<title>Tree</title>\n<polygon fill=\"white\" stroke=\"transparent\" points=\"-4,4 -4,-667 1142,-667 1142,4 -4,4\"/>\n<!-- 0 -->\n<g id=\"node1\" class=\"node\">\n<title>0</title>\n<path fill=\"#eeae80\" stroke=\"black\" d=\"M777,-663C777,-663 616,-663 616,-663 610,-663 604,-657 604,-651 604,-651 604,-592 604,-592 604,-586 610,-580 616,-580 616,-580 777,-580 777,-580 783,-580 789,-586 789,-592 789,-592 789,-651 789,-651 789,-657 783,-663 777,-663\"/>\n<text text-anchor=\"middle\" x=\"696.5\" y=\"-647.8\" font-family=\"Helvetica,sans-Serif\" font-size=\"14.00\">PType_Code &lt;= 1.5</text>\n<text text-anchor=\"middle\" x=\"696.5\" y=\"-632.8\" font-family=\"Helvetica,sans-Serif\" font-size=\"14.00\">gini = 0.443</text>\n<text text-anchor=\"middle\" x=\"696.5\" y=\"-617.8\" font-family=\"Helvetica,sans-Serif\" font-size=\"14.00\">samples = 1020</text>\n<text text-anchor=\"middle\" x=\"696.5\" y=\"-602.8\" font-family=\"Helvetica,sans-Serif\" font-size=\"14.00\">value = [729, 210, 63, 14, 4]</text>\n<text text-anchor=\"middle\" x=\"696.5\" y=\"-587.8\" font-family=\"Helvetica,sans-Serif\" font-size=\"14.00\">class = 0</text>\n</g>\n<!-- 1 -->\n<g id=\"node2\" class=\"node\">\n<title>1</title>\n<path fill=\"#f0b58b\" stroke=\"black\" d=\"M603,-544C603,-544 442,-544 442,-544 436,-544 430,-538 430,-532 430,-532 430,-473 430,-473 430,-467 436,-461 442,-461 442,-461 603,-461 603,-461 609,-461 615,-467 615,-473 615,-473 615,-532 615,-532 615,-538 609,-544 603,-544\"/>\n<text text-anchor=\"middle\" x=\"522.5\" y=\"-528.8\" font-family=\"Helvetica,sans-Serif\" font-size=\"14.00\">Borough_Code &lt;= 2.5</text>\n<text text-anchor=\"middle\" x=\"522.5\" y=\"-513.8\" font-family=\"Helvetica,sans-Serif\" font-size=\"14.00\">gini = 0.48</text>\n<text text-anchor=\"middle\" x=\"522.5\" y=\"-498.8\" font-family=\"Helvetica,sans-Serif\" font-size=\"14.00\">samples = 702</text>\n<text text-anchor=\"middle\" x=\"522.5\" y=\"-483.8\" font-family=\"Helvetica,sans-Serif\" font-size=\"14.00\">value = [478, 159, 50, 13, 2]</text>\n<text text-anchor=\"middle\" x=\"522.5\" y=\"-468.8\" font-family=\"Helvetica,sans-Serif\" font-size=\"14.00\">class = 0</text>\n</g>\n<!-- 0&#45;&gt;1 -->\n<g id=\"edge1\" class=\"edge\">\n<title>0&#45;&gt;1</title>\n<path fill=\"none\" stroke=\"black\" d=\"M636.13,-579.91C621.69,-570.2 606.17,-559.76 591.37,-549.81\"/>\n<polygon fill=\"black\" stroke=\"black\" points=\"593.01,-546.7 582.76,-544.02 589.11,-552.51 593.01,-546.7\"/>\n<text text-anchor=\"middle\" x=\"587.57\" y=\"-564.85\" font-family=\"Helvetica,sans-Serif\" font-size=\"14.00\">True</text>\n</g>\n<!-- 10 -->\n<g id=\"node11\" class=\"node\">\n<title>10</title>\n<path fill=\"#eca16b\" stroke=\"black\" d=\"M868.5,-544C868.5,-544 722.5,-544 722.5,-544 716.5,-544 710.5,-538 710.5,-532 710.5,-532 710.5,-473 710.5,-473 710.5,-467 716.5,-461 722.5,-461 722.5,-461 868.5,-461 868.5,-461 874.5,-461 880.5,-467 880.5,-473 880.5,-473 880.5,-532 880.5,-532 880.5,-538 874.5,-544 868.5,-544\"/>\n<text text-anchor=\"middle\" x=\"795.5\" y=\"-528.8\" font-family=\"Helvetica,sans-Serif\" font-size=\"14.00\">Borough_Code &lt;= 4.5</text>\n<text text-anchor=\"middle\" x=\"795.5\" y=\"-513.8\" font-family=\"Helvetica,sans-Serif\" font-size=\"14.00\">gini = 0.35</text>\n<text text-anchor=\"middle\" x=\"795.5\" y=\"-498.8\" font-family=\"Helvetica,sans-Serif\" font-size=\"14.00\">samples = 318</text>\n<text text-anchor=\"middle\" x=\"795.5\" y=\"-483.8\" font-family=\"Helvetica,sans-Serif\" font-size=\"14.00\">value = [251, 51, 13, 1, 2]</text>\n<text text-anchor=\"middle\" x=\"795.5\" y=\"-468.8\" font-family=\"Helvetica,sans-Serif\" font-size=\"14.00\">class = 0</text>\n</g>\n<!-- 0&#45;&gt;10 -->\n<g id=\"edge10\" class=\"edge\">\n<title>0&#45;&gt;10</title>\n<path fill=\"none\" stroke=\"black\" d=\"M730.85,-579.91C738.53,-570.83 746.74,-561.12 754.66,-551.77\"/>\n<polygon fill=\"black\" stroke=\"black\" points=\"757.43,-553.92 761.21,-544.02 752.08,-549.39 757.43,-553.92\"/>\n<text text-anchor=\"middle\" x=\"763.29\" y=\"-565.23\" font-family=\"Helvetica,sans-Serif\" font-size=\"14.00\">False</text>\n</g>\n<!-- 2 -->\n<g id=\"node3\" class=\"node\">\n<title>2</title>\n<path fill=\"#f4caad\" stroke=\"black\" d=\"M327.5,-425C327.5,-425 181.5,-425 181.5,-425 175.5,-425 169.5,-419 169.5,-413 169.5,-413 169.5,-354 169.5,-354 169.5,-348 175.5,-342 181.5,-342 181.5,-342 327.5,-342 327.5,-342 333.5,-342 339.5,-348 339.5,-354 339.5,-354 339.5,-413 339.5,-413 339.5,-419 333.5,-425 327.5,-425\"/>\n<text text-anchor=\"middle\" x=\"254.5\" y=\"-409.8\" font-family=\"Helvetica,sans-Serif\" font-size=\"14.00\">Borough_Code &lt;= 1.5</text>\n<text text-anchor=\"middle\" x=\"254.5\" y=\"-394.8\" font-family=\"Helvetica,sans-Serif\" font-size=\"14.00\">gini = 0.578</text>\n<text text-anchor=\"middle\" x=\"254.5\" y=\"-379.8\" font-family=\"Helvetica,sans-Serif\" font-size=\"14.00\">samples = 182</text>\n<text text-anchor=\"middle\" x=\"254.5\" y=\"-364.8\" font-family=\"Helvetica,sans-Serif\" font-size=\"14.00\">value = [105, 50, 20, 6, 1]</text>\n<text text-anchor=\"middle\" x=\"254.5\" y=\"-349.8\" font-family=\"Helvetica,sans-Serif\" font-size=\"14.00\">class = 0</text>\n</g>\n<!-- 1&#45;&gt;2 -->\n<g id=\"edge2\" class=\"edge\">\n<title>1&#45;&gt;2</title>\n<path fill=\"none\" stroke=\"black\" d=\"M429.89,-461.07C403.77,-449.67 375.33,-437.25 349.09,-425.8\"/>\n<polygon fill=\"black\" stroke=\"black\" points=\"350.48,-422.58 339.91,-421.79 347.67,-429 350.48,-422.58\"/>\n</g>\n<!-- 5 -->\n<g id=\"node6\" class=\"node\">\n<title>5</title>\n<path fill=\"#eeae80\" stroke=\"black\" d=\"M599,-425C599,-425 446,-425 446,-425 440,-425 434,-419 434,-413 434,-413 434,-354 434,-354 434,-348 440,-342 446,-342 446,-342 599,-342 599,-342 605,-342 611,-348 611,-354 611,-354 611,-413 611,-413 611,-419 605,-425 599,-425\"/>\n<text text-anchor=\"middle\" x=\"522.5\" y=\"-409.8\" font-family=\"Helvetica,sans-Serif\" font-size=\"14.00\">Borough_Code &lt;= 3.5</text>\n<text text-anchor=\"middle\" x=\"522.5\" y=\"-394.8\" font-family=\"Helvetica,sans-Serif\" font-size=\"14.00\">gini = 0.438</text>\n<text text-anchor=\"middle\" x=\"522.5\" y=\"-379.8\" font-family=\"Helvetica,sans-Serif\" font-size=\"14.00\">samples = 520</text>\n<text text-anchor=\"middle\" x=\"522.5\" y=\"-364.8\" font-family=\"Helvetica,sans-Serif\" font-size=\"14.00\">value = [373, 109, 30, 7, 1]</text>\n<text text-anchor=\"middle\" x=\"522.5\" y=\"-349.8\" font-family=\"Helvetica,sans-Serif\" font-size=\"14.00\">class = 0</text>\n</g>\n<!-- 1&#45;&gt;5 -->\n<g id=\"edge5\" class=\"edge\">\n<title>1&#45;&gt;5</title>\n<path fill=\"none\" stroke=\"black\" d=\"M522.5,-460.91C522.5,-452.65 522.5,-443.86 522.5,-435.3\"/>\n<polygon fill=\"black\" stroke=\"black\" points=\"526,-435.02 522.5,-425.02 519,-435.02 526,-435.02\"/>\n</g>\n<!-- 3 -->\n<g id=\"node4\" class=\"node\">\n<title>3</title>\n<path fill=\"#f5cfb3\" stroke=\"black\" d=\"M143,-298.5C143,-298.5 12,-298.5 12,-298.5 6,-298.5 0,-292.5 0,-286.5 0,-286.5 0,-242.5 0,-242.5 0,-236.5 6,-230.5 12,-230.5 12,-230.5 143,-230.5 143,-230.5 149,-230.5 155,-236.5 155,-242.5 155,-242.5 155,-286.5 155,-286.5 155,-292.5 149,-298.5 143,-298.5\"/>\n<text text-anchor=\"middle\" x=\"77.5\" y=\"-283.3\" font-family=\"Helvetica,sans-Serif\" font-size=\"14.00\">gini = 0.574</text>\n<text text-anchor=\"middle\" x=\"77.5\" y=\"-268.3\" font-family=\"Helvetica,sans-Serif\" font-size=\"14.00\">samples = 49</text>\n<text text-anchor=\"middle\" x=\"77.5\" y=\"-253.3\" font-family=\"Helvetica,sans-Serif\" font-size=\"14.00\">value = [28, 15, 3, 2, 1]</text>\n<text text-anchor=\"middle\" x=\"77.5\" y=\"-238.3\" font-family=\"Helvetica,sans-Serif\" font-size=\"14.00\">class = 0</text>\n</g>\n<!-- 2&#45;&gt;3 -->\n<g id=\"edge3\" class=\"edge\">\n<title>2&#45;&gt;3</title>\n<path fill=\"none\" stroke=\"black\" d=\"M193.09,-341.91C174.73,-329.77 154.64,-316.49 136.44,-304.46\"/>\n<polygon fill=\"black\" stroke=\"black\" points=\"137.95,-301.26 127.68,-298.67 134.09,-307.1 137.95,-301.26\"/>\n</g>\n<!-- 4 -->\n<g id=\"node5\" class=\"node\">\n<title>4</title>\n<path fill=\"#f4c9aa\" stroke=\"black\" d=\"M323.5,-298.5C323.5,-298.5 185.5,-298.5 185.5,-298.5 179.5,-298.5 173.5,-292.5 173.5,-286.5 173.5,-286.5 173.5,-242.5 173.5,-242.5 173.5,-236.5 179.5,-230.5 185.5,-230.5 185.5,-230.5 323.5,-230.5 323.5,-230.5 329.5,-230.5 335.5,-236.5 335.5,-242.5 335.5,-242.5 335.5,-286.5 335.5,-286.5 335.5,-292.5 329.5,-298.5 323.5,-298.5\"/>\n<text text-anchor=\"middle\" x=\"254.5\" y=\"-283.3\" font-family=\"Helvetica,sans-Serif\" font-size=\"14.00\">gini = 0.578</text>\n<text text-anchor=\"middle\" x=\"254.5\" y=\"-268.3\" font-family=\"Helvetica,sans-Serif\" font-size=\"14.00\">samples = 133</text>\n<text text-anchor=\"middle\" x=\"254.5\" y=\"-253.3\" font-family=\"Helvetica,sans-Serif\" font-size=\"14.00\">value = [77, 35, 17, 4, 0]</text>\n<text text-anchor=\"middle\" x=\"254.5\" y=\"-238.3\" font-family=\"Helvetica,sans-Serif\" font-size=\"14.00\">class = 0</text>\n</g>\n<!-- 2&#45;&gt;4 -->\n<g id=\"edge4\" class=\"edge\">\n<title>2&#45;&gt;4</title>\n<path fill=\"none\" stroke=\"black\" d=\"M254.5,-341.91C254.5,-331.2 254.5,-319.62 254.5,-308.78\"/>\n<polygon fill=\"black\" stroke=\"black\" points=\"258,-308.67 254.5,-298.67 251,-308.67 258,-308.67\"/>\n</g>\n<!-- 6 -->\n<g id=\"node7\" class=\"node\">\n<title>6</title>\n<path fill=\"#eda876\" stroke=\"black\" d=\"M511.5,-298.5C511.5,-298.5 365.5,-298.5 365.5,-298.5 359.5,-298.5 353.5,-292.5 353.5,-286.5 353.5,-286.5 353.5,-242.5 353.5,-242.5 353.5,-236.5 359.5,-230.5 365.5,-230.5 365.5,-230.5 511.5,-230.5 511.5,-230.5 517.5,-230.5 523.5,-236.5 523.5,-242.5 523.5,-242.5 523.5,-286.5 523.5,-286.5 523.5,-292.5 517.5,-298.5 511.5,-298.5\"/>\n<text text-anchor=\"middle\" x=\"438.5\" y=\"-283.3\" font-family=\"Helvetica,sans-Serif\" font-size=\"14.00\">gini = 0.399</text>\n<text text-anchor=\"middle\" x=\"438.5\" y=\"-268.3\" font-family=\"Helvetica,sans-Serif\" font-size=\"14.00\">samples = 409</text>\n<text text-anchor=\"middle\" x=\"438.5\" y=\"-253.3\" font-family=\"Helvetica,sans-Serif\" font-size=\"14.00\">value = [307, 77, 19, 6, 0]</text>\n<text text-anchor=\"middle\" x=\"438.5\" y=\"-238.3\" font-family=\"Helvetica,sans-Serif\" font-size=\"14.00\">class = 0</text>\n</g>\n<!-- 5&#45;&gt;6 -->\n<g id=\"edge6\" class=\"edge\">\n<title>5&#45;&gt;6</title>\n<path fill=\"none\" stroke=\"black\" d=\"M493.36,-341.91C485.28,-330.65 476.49,-318.42 468.37,-307.11\"/>\n<polygon fill=\"black\" stroke=\"black\" points=\"470.99,-304.75 462.31,-298.67 465.3,-308.83 470.99,-304.75\"/>\n</g>\n<!-- 7 -->\n<g id=\"node8\" class=\"node\">\n<title>7</title>\n<path fill=\"#f4c9aa\" stroke=\"black\" d=\"M691.5,-306C691.5,-306 553.5,-306 553.5,-306 547.5,-306 541.5,-300 541.5,-294 541.5,-294 541.5,-235 541.5,-235 541.5,-229 547.5,-223 553.5,-223 553.5,-223 691.5,-223 691.5,-223 697.5,-223 703.5,-229 703.5,-235 703.5,-235 703.5,-294 703.5,-294 703.5,-300 697.5,-306 691.5,-306\"/>\n<text text-anchor=\"middle\" x=\"622.5\" y=\"-290.8\" font-family=\"Helvetica,sans-Serif\" font-size=\"14.00\">Borough_Code &lt;= 4.5</text>\n<text text-anchor=\"middle\" x=\"622.5\" y=\"-275.8\" font-family=\"Helvetica,sans-Serif\" font-size=\"14.00\">gini = 0.553</text>\n<text text-anchor=\"middle\" x=\"622.5\" y=\"-260.8\" font-family=\"Helvetica,sans-Serif\" font-size=\"14.00\">samples = 111</text>\n<text text-anchor=\"middle\" x=\"622.5\" y=\"-245.8\" font-family=\"Helvetica,sans-Serif\" font-size=\"14.00\">value = [66, 32, 11, 1, 1]</text>\n<text text-anchor=\"middle\" x=\"622.5\" y=\"-230.8\" font-family=\"Helvetica,sans-Serif\" font-size=\"14.00\">class = 0</text>\n</g>\n<!-- 5&#45;&gt;7 -->\n<g id=\"edge7\" class=\"edge\">\n<title>5&#45;&gt;7</title>\n<path fill=\"none\" stroke=\"black\" d=\"M557.19,-341.91C564.95,-332.83 573.25,-323.12 581.24,-313.77\"/>\n<polygon fill=\"black\" stroke=\"black\" points=\"584.03,-315.9 587.87,-306.02 578.71,-311.35 584.03,-315.9\"/>\n</g>\n<!-- 8 -->\n<g id=\"node9\" class=\"node\">\n<title>8</title>\n<path fill=\"#f3c4a2\" stroke=\"black\" d=\"M568,-179.5C568,-179.5 437,-179.5 437,-179.5 431,-179.5 425,-173.5 425,-167.5 425,-167.5 425,-123.5 425,-123.5 425,-117.5 431,-111.5 437,-111.5 437,-111.5 568,-111.5 568,-111.5 574,-111.5 580,-117.5 580,-123.5 580,-123.5 580,-167.5 580,-167.5 580,-173.5 574,-179.5 568,-179.5\"/>\n<text text-anchor=\"middle\" x=\"502.5\" y=\"-164.3\" font-family=\"Helvetica,sans-Serif\" font-size=\"14.00\">gini = 0.527</text>\n<text text-anchor=\"middle\" x=\"502.5\" y=\"-149.3\" font-family=\"Helvetica,sans-Serif\" font-size=\"14.00\">samples = 92</text>\n<text text-anchor=\"middle\" x=\"502.5\" y=\"-134.3\" font-family=\"Helvetica,sans-Serif\" font-size=\"14.00\">value = [57, 26, 9, 0, 0]</text>\n<text text-anchor=\"middle\" x=\"502.5\" y=\"-119.3\" font-family=\"Helvetica,sans-Serif\" font-size=\"14.00\">class = 0</text>\n</g>\n<!-- 7&#45;&gt;8 -->\n<g id=\"edge8\" class=\"edge\">\n<title>7&#45;&gt;8</title>\n<path fill=\"none\" stroke=\"black\" d=\"M580.87,-222.91C568.87,-211.21 555.79,-198.46 543.81,-186.78\"/>\n<polygon fill=\"black\" stroke=\"black\" points=\"546.12,-184.14 536.52,-179.67 541.23,-189.15 546.12,-184.14\"/>\n</g>\n<!-- 9 -->\n<g id=\"node10\" class=\"node\">\n<title>9</title>\n<path fill=\"#f9e2d1\" stroke=\"black\" d=\"M726.5,-179.5C726.5,-179.5 610.5,-179.5 610.5,-179.5 604.5,-179.5 598.5,-173.5 598.5,-167.5 598.5,-167.5 598.5,-123.5 598.5,-123.5 598.5,-117.5 604.5,-111.5 610.5,-111.5 610.5,-111.5 726.5,-111.5 726.5,-111.5 732.5,-111.5 738.5,-117.5 738.5,-123.5 738.5,-123.5 738.5,-167.5 738.5,-167.5 738.5,-173.5 732.5,-179.5 726.5,-179.5\"/>\n<text text-anchor=\"middle\" x=\"668.5\" y=\"-164.3\" font-family=\"Helvetica,sans-Serif\" font-size=\"14.00\">gini = 0.659</text>\n<text text-anchor=\"middle\" x=\"668.5\" y=\"-149.3\" font-family=\"Helvetica,sans-Serif\" font-size=\"14.00\">samples = 19</text>\n<text text-anchor=\"middle\" x=\"668.5\" y=\"-134.3\" font-family=\"Helvetica,sans-Serif\" font-size=\"14.00\">value = [9, 6, 2, 1, 1]</text>\n<text text-anchor=\"middle\" x=\"668.5\" y=\"-119.3\" font-family=\"Helvetica,sans-Serif\" font-size=\"14.00\">class = 0</text>\n</g>\n<!-- 7&#45;&gt;9 -->\n<g id=\"edge9\" class=\"edge\">\n<title>7&#45;&gt;9</title>\n<path fill=\"none\" stroke=\"black\" d=\"M638.46,-222.91C642.75,-211.98 647.41,-200.14 651.75,-189.11\"/>\n<polygon fill=\"black\" stroke=\"black\" points=\"655.06,-190.25 655.46,-179.67 648.54,-187.69 655.06,-190.25\"/>\n</g>\n<!-- 11 -->\n<g id=\"node12\" class=\"node\">\n<title>11</title>\n<path fill=\"#eda876\" stroke=\"black\" d=\"M868.5,-425C868.5,-425 722.5,-425 722.5,-425 716.5,-425 710.5,-419 710.5,-413 710.5,-413 710.5,-354 710.5,-354 710.5,-348 716.5,-342 722.5,-342 722.5,-342 868.5,-342 868.5,-342 874.5,-342 880.5,-348 880.5,-354 880.5,-354 880.5,-413 880.5,-413 880.5,-419 874.5,-425 868.5,-425\"/>\n<text text-anchor=\"middle\" x=\"795.5\" y=\"-409.8\" font-family=\"Helvetica,sans-Serif\" font-size=\"14.00\">Borough_Code &lt;= 1.5</text>\n<text text-anchor=\"middle\" x=\"795.5\" y=\"-394.8\" font-family=\"Helvetica,sans-Serif\" font-size=\"14.00\">gini = 0.4</text>\n<text text-anchor=\"middle\" x=\"795.5\" y=\"-379.8\" font-family=\"Helvetica,sans-Serif\" font-size=\"14.00\">samples = 251</text>\n<text text-anchor=\"middle\" x=\"795.5\" y=\"-364.8\" font-family=\"Helvetica,sans-Serif\" font-size=\"14.00\">value = [188, 48, 12, 1, 2]</text>\n<text text-anchor=\"middle\" x=\"795.5\" y=\"-349.8\" font-family=\"Helvetica,sans-Serif\" font-size=\"14.00\">class = 0</text>\n</g>\n<!-- 10&#45;&gt;11 -->\n<g id=\"edge11\" class=\"edge\">\n<title>10&#45;&gt;11</title>\n<path fill=\"none\" stroke=\"black\" d=\"M795.5,-460.91C795.5,-452.65 795.5,-443.86 795.5,-435.3\"/>\n<polygon fill=\"black\" stroke=\"black\" points=\"799,-435.02 795.5,-425.02 792,-435.02 799,-435.02\"/>\n</g>\n<!-- 18 -->\n<g id=\"node19\" class=\"node\">\n<title>18</title>\n<path fill=\"#e78945\" stroke=\"black\" d=\"M1034,-417.5C1034,-417.5 911,-417.5 911,-417.5 905,-417.5 899,-411.5 899,-405.5 899,-405.5 899,-361.5 899,-361.5 899,-355.5 905,-349.5 911,-349.5 911,-349.5 1034,-349.5 1034,-349.5 1040,-349.5 1046,-355.5 1046,-361.5 1046,-361.5 1046,-405.5 1046,-405.5 1046,-411.5 1040,-417.5 1034,-417.5\"/>\n<text text-anchor=\"middle\" x=\"972.5\" y=\"-402.3\" font-family=\"Helvetica,sans-Serif\" font-size=\"14.00\">gini = 0.114</text>\n<text text-anchor=\"middle\" x=\"972.5\" y=\"-387.3\" font-family=\"Helvetica,sans-Serif\" font-size=\"14.00\">samples = 67</text>\n<text text-anchor=\"middle\" x=\"972.5\" y=\"-372.3\" font-family=\"Helvetica,sans-Serif\" font-size=\"14.00\">value = [63, 3, 1, 0, 0]</text>\n<text text-anchor=\"middle\" x=\"972.5\" y=\"-357.3\" font-family=\"Helvetica,sans-Serif\" font-size=\"14.00\">class = 0</text>\n</g>\n<!-- 10&#45;&gt;18 -->\n<g id=\"edge18\" class=\"edge\">\n<title>10&#45;&gt;18</title>\n<path fill=\"none\" stroke=\"black\" d=\"M856.91,-460.91C875.27,-448.77 895.36,-435.49 913.56,-423.46\"/>\n<polygon fill=\"black\" stroke=\"black\" points=\"915.91,-426.1 922.32,-417.67 912.05,-420.26 915.91,-426.1\"/>\n</g>\n<!-- 12 -->\n<g id=\"node13\" class=\"node\">\n<title>12</title>\n<path fill=\"#e99457\" stroke=\"black\" d=\"M857,-298.5C857,-298.5 734,-298.5 734,-298.5 728,-298.5 722,-292.5 722,-286.5 722,-286.5 722,-242.5 722,-242.5 722,-236.5 728,-230.5 734,-230.5 734,-230.5 857,-230.5 857,-230.5 863,-230.5 869,-236.5 869,-242.5 869,-242.5 869,-286.5 869,-286.5 869,-292.5 863,-298.5 857,-298.5\"/>\n<text text-anchor=\"middle\" x=\"795.5\" y=\"-283.3\" font-family=\"Helvetica,sans-Serif\" font-size=\"14.00\">gini = 0.229</text>\n<text text-anchor=\"middle\" x=\"795.5\" y=\"-268.3\" font-family=\"Helvetica,sans-Serif\" font-size=\"14.00\">samples = 38</text>\n<text text-anchor=\"middle\" x=\"795.5\" y=\"-253.3\" font-family=\"Helvetica,sans-Serif\" font-size=\"14.00\">value = [33, 5, 0, 0, 0]</text>\n<text text-anchor=\"middle\" x=\"795.5\" y=\"-238.3\" font-family=\"Helvetica,sans-Serif\" font-size=\"14.00\">class = 0</text>\n</g>\n<!-- 11&#45;&gt;12 -->\n<g id=\"edge12\" class=\"edge\">\n<title>11&#45;&gt;12</title>\n<path fill=\"none\" stroke=\"black\" d=\"M795.5,-341.91C795.5,-331.2 795.5,-319.62 795.5,-308.78\"/>\n<polygon fill=\"black\" stroke=\"black\" points=\"799,-308.67 795.5,-298.67 792,-308.67 799,-308.67\"/>\n</g>\n<!-- 13 -->\n<g id=\"node14\" class=\"node\">\n<title>13</title>\n<path fill=\"#eeac7d\" stroke=\"black\" d=\"M1045.5,-306C1045.5,-306 899.5,-306 899.5,-306 893.5,-306 887.5,-300 887.5,-294 887.5,-294 887.5,-235 887.5,-235 887.5,-229 893.5,-223 899.5,-223 899.5,-223 1045.5,-223 1045.5,-223 1051.5,-223 1057.5,-229 1057.5,-235 1057.5,-235 1057.5,-294 1057.5,-294 1057.5,-300 1051.5,-306 1045.5,-306\"/>\n<text text-anchor=\"middle\" x=\"972.5\" y=\"-290.8\" font-family=\"Helvetica,sans-Serif\" font-size=\"14.00\">Borough_Code &lt;= 3.5</text>\n<text text-anchor=\"middle\" x=\"972.5\" y=\"-275.8\" font-family=\"Helvetica,sans-Serif\" font-size=\"14.00\">gini = 0.426</text>\n<text text-anchor=\"middle\" x=\"972.5\" y=\"-260.8\" font-family=\"Helvetica,sans-Serif\" font-size=\"14.00\">samples = 213</text>\n<text text-anchor=\"middle\" x=\"972.5\" y=\"-245.8\" font-family=\"Helvetica,sans-Serif\" font-size=\"14.00\">value = [155, 43, 12, 1, 2]</text>\n<text text-anchor=\"middle\" x=\"972.5\" y=\"-230.8\" font-family=\"Helvetica,sans-Serif\" font-size=\"14.00\">class = 0</text>\n</g>\n<!-- 11&#45;&gt;13 -->\n<g id=\"edge13\" class=\"edge\">\n<title>11&#45;&gt;13</title>\n<path fill=\"none\" stroke=\"black\" d=\"M856.91,-341.91C871.6,-332.2 887.39,-321.76 902.44,-311.81\"/>\n<polygon fill=\"black\" stroke=\"black\" points=\"904.79,-314.45 911.2,-306.02 900.93,-308.62 904.79,-314.45\"/>\n</g>\n<!-- 14 -->\n<g id=\"node15\" class=\"node\">\n<title>14</title>\n<path fill=\"#efaf82\" stroke=\"black\" d=\"M952.5,-187C952.5,-187 814.5,-187 814.5,-187 808.5,-187 802.5,-181 802.5,-175 802.5,-175 802.5,-116 802.5,-116 802.5,-110 808.5,-104 814.5,-104 814.5,-104 952.5,-104 952.5,-104 958.5,-104 964.5,-110 964.5,-116 964.5,-116 964.5,-175 964.5,-175 964.5,-181 958.5,-187 952.5,-187\"/>\n<text text-anchor=\"middle\" x=\"883.5\" y=\"-171.8\" font-family=\"Helvetica,sans-Serif\" font-size=\"14.00\">Borough_Code &lt;= 2.5</text>\n<text text-anchor=\"middle\" x=\"883.5\" y=\"-156.8\" font-family=\"Helvetica,sans-Serif\" font-size=\"14.00\">gini = 0.446</text>\n<text text-anchor=\"middle\" x=\"883.5\" y=\"-141.8\" font-family=\"Helvetica,sans-Serif\" font-size=\"14.00\">samples = 145</text>\n<text text-anchor=\"middle\" x=\"883.5\" y=\"-126.8\" font-family=\"Helvetica,sans-Serif\" font-size=\"14.00\">value = [103, 31, 8, 1, 2]</text>\n<text text-anchor=\"middle\" x=\"883.5\" y=\"-111.8\" font-family=\"Helvetica,sans-Serif\" font-size=\"14.00\">class = 0</text>\n</g>\n<!-- 13&#45;&gt;14 -->\n<g id=\"edge14\" class=\"edge\">\n<title>13&#45;&gt;14</title>\n<path fill=\"none\" stroke=\"black\" d=\"M941.62,-222.91C934.79,-213.92 927.48,-204.32 920.43,-195.05\"/>\n<polygon fill=\"black\" stroke=\"black\" points=\"923.16,-192.86 914.32,-187.02 917.59,-197.1 923.16,-192.86\"/>\n</g>\n<!-- 17 -->\n<g id=\"node18\" class=\"node\">\n<title>17</title>\n<path fill=\"#eca572\" stroke=\"black\" d=\"M1126,-179.5C1126,-179.5 995,-179.5 995,-179.5 989,-179.5 983,-173.5 983,-167.5 983,-167.5 983,-123.5 983,-123.5 983,-117.5 989,-111.5 995,-111.5 995,-111.5 1126,-111.5 1126,-111.5 1132,-111.5 1138,-117.5 1138,-123.5 1138,-123.5 1138,-167.5 1138,-167.5 1138,-173.5 1132,-179.5 1126,-179.5\"/>\n<text text-anchor=\"middle\" x=\"1060.5\" y=\"-164.3\" font-family=\"Helvetica,sans-Serif\" font-size=\"14.00\">gini = 0.381</text>\n<text text-anchor=\"middle\" x=\"1060.5\" y=\"-149.3\" font-family=\"Helvetica,sans-Serif\" font-size=\"14.00\">samples = 68</text>\n<text text-anchor=\"middle\" x=\"1060.5\" y=\"-134.3\" font-family=\"Helvetica,sans-Serif\" font-size=\"14.00\">value = [52, 12, 4, 0, 0]</text>\n<text text-anchor=\"middle\" x=\"1060.5\" y=\"-119.3\" font-family=\"Helvetica,sans-Serif\" font-size=\"14.00\">class = 0</text>\n</g>\n<!-- 13&#45;&gt;17 -->\n<g id=\"edge17\" class=\"edge\">\n<title>13&#45;&gt;17</title>\n<path fill=\"none\" stroke=\"black\" d=\"M1003.03,-222.91C1011.58,-211.54 1020.88,-199.18 1029.46,-187.77\"/>\n<polygon fill=\"black\" stroke=\"black\" points=\"1032.34,-189.76 1035.55,-179.67 1026.75,-185.55 1032.34,-189.76\"/>\n</g>\n<!-- 15 -->\n<g id=\"node16\" class=\"node\">\n<title>15</title>\n<path fill=\"#eda775\" stroke=\"black\" d=\"M862,-68C862,-68 731,-68 731,-68 725,-68 719,-62 719,-56 719,-56 719,-12 719,-12 719,-6 725,0 731,0 731,0 862,0 862,0 868,0 874,-6 874,-12 874,-12 874,-56 874,-56 874,-62 868,-68 862,-68\"/>\n<text text-anchor=\"middle\" x=\"796.5\" y=\"-52.8\" font-family=\"Helvetica,sans-Serif\" font-size=\"14.00\">gini = 0.389</text>\n<text text-anchor=\"middle\" x=\"796.5\" y=\"-37.8\" font-family=\"Helvetica,sans-Serif\" font-size=\"14.00\">samples = 82</text>\n<text text-anchor=\"middle\" x=\"796.5\" y=\"-22.8\" font-family=\"Helvetica,sans-Serif\" font-size=\"14.00\">value = [62, 16, 3, 1, 0]</text>\n<text text-anchor=\"middle\" x=\"796.5\" y=\"-7.8\" font-family=\"Helvetica,sans-Serif\" font-size=\"14.00\">class = 0</text>\n</g>\n<!-- 14&#45;&gt;15 -->\n<g id=\"edge15\" class=\"edge\">\n<title>14&#45;&gt;15</title>\n<path fill=\"none\" stroke=\"black\" d=\"M851.1,-103.73C844,-94.79 836.48,-85.32 829.36,-76.36\"/>\n<polygon fill=\"black\" stroke=\"black\" points=\"831.92,-73.95 822.96,-68.3 826.44,-78.31 831.92,-73.95\"/>\n</g>\n<!-- 16 -->\n<g id=\"node17\" class=\"node\">\n<title>16</title>\n<path fill=\"#f1bb94\" stroke=\"black\" d=\"M1035,-68C1035,-68 904,-68 904,-68 898,-68 892,-62 892,-56 892,-56 892,-12 892,-12 892,-6 898,0 904,0 904,0 1035,0 1035,0 1041,0 1047,-6 1047,-12 1047,-12 1047,-56 1047,-56 1047,-62 1041,-68 1035,-68\"/>\n<text text-anchor=\"middle\" x=\"969.5\" y=\"-52.8\" font-family=\"Helvetica,sans-Serif\" font-size=\"14.00\">gini = 0.512</text>\n<text text-anchor=\"middle\" x=\"969.5\" y=\"-37.8\" font-family=\"Helvetica,sans-Serif\" font-size=\"14.00\">samples = 63</text>\n<text text-anchor=\"middle\" x=\"969.5\" y=\"-22.8\" font-family=\"Helvetica,sans-Serif\" font-size=\"14.00\">value = [41, 15, 5, 0, 2]</text>\n<text text-anchor=\"middle\" x=\"969.5\" y=\"-7.8\" font-family=\"Helvetica,sans-Serif\" font-size=\"14.00\">class = 0</text>\n</g>\n<!-- 14&#45;&gt;16 -->\n<g id=\"edge16\" class=\"edge\">\n<title>14&#45;&gt;16</title>\n<path fill=\"none\" stroke=\"black\" d=\"M915.52,-103.73C922.54,-94.79 929.98,-85.32 937.02,-76.36\"/>\n<polygon fill=\"black\" stroke=\"black\" points=\"939.92,-78.33 943.35,-68.3 934.42,-74 939.92,-78.33\"/>\n</g>\n</g>\n</svg>\n"
          },
          "metadata": {},
          "execution_count": 34
        }
      ]
    },
    {
      "cell_type": "markdown",
      "source": [
        "**Conclusion**:\n",
        "\n",
        "According to the results of the tests, it IS possible to predict how many critical violations will occur based on location data using decision trees, but the results are not very accurate.\n",
        "\n",
        "With a max depth of 6, using most precise features like X any Y map coordinates, yielded only a correct prediction percentage of around 64%. Including the feature of permit type increased the percentage slightly, but adding zip code or borough decreased it instead. Unexpectedly, using the most impercise features, permit type and borough code, yielded the highest percentage, 67~68%. \n",
        "\n",
        "This indicates that whether the pools are indoor or outdoor, as describe by their permit type, have a relatively high influence on whether they have less or more critical violations. "
      ],
      "metadata": {
        "id": "XC9Qq7RHu9Hi"
      }
    }
  ]
}